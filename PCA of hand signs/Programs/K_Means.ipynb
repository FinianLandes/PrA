{
 "cells": [
  {
   "cell_type": "code",
   "execution_count": 7,
   "metadata": {},
   "outputs": [],
   "source": [
    "### Imports\n",
    "import numpy as np\n",
    "from PIL import Image\n",
    "import os"
   ]
  },
  {
   "cell_type": "code",
   "execution_count": 57,
   "metadata": {},
   "outputs": [],
   "source": [
    "def init_centroids(k: int, range: list, dimensions: int) -> np.ndarray:\n",
    "    init_centroids: np.ndarray = (np.random.rand(k, dimensions) * abs(range[1] - range[0])) + range[0]\n",
    "    return init_centroids\n",
    "\n",
    "def run_iteration(points: np.ndarray, centroids: np.ndarray, k: int) -> tuple[np.ndarray,list]:# list of new centroids, list of classification of point\n",
    "    classification: list = []\n",
    "    clusters: list[np.ndarray] = [[] for _ in range(k)]\n",
    "    for point in points:\n",
    "        distances: list[np.ndarray] = [np.linalg.norm(point - centroid) for centroid in centroids]\n",
    "        classification.append(distances.index(min(distances)))\n",
    "        clusters[classification[-1]].append(point)\n",
    "    for i in range(len(centroids)):\n",
    "        centroids[i] = np.mean(clusters[i], axis = 0)\n",
    "    return centroids, classification\n",
    "\n",
    "def find_range(points: np.ndarray) -> list:\n",
    "    lower: float = np.inf\n",
    "    upper: float = -np.inf\n",
    "    for point in points:\n",
    "        new_min: float = min(point)\n",
    "        new_max: float = max(point)\n",
    "        if new_min < lower:\n",
    "            lower = new_min\n",
    "        if new_max > upper:\n",
    "            upper = new_max\n",
    "    return [lower,upper]\n",
    "\n",
    "def is_not_converged(last_centroids: np.ndarray, current_centroids: np.ndarray, e: float = 1e-10) -> bool:\n",
    "    dist: float = 0\n",
    "    for  i in range(len(last_centroids)):\n",
    "        dist += np.linalg.norm(last_centroids[i] - current_centroids[i])\n",
    "    return dist > e\n",
    "\n",
    "def load_images(dir: str, resolution: int = 256, grayscale: bool = True) -> np.ndarray:\n",
    "    image_names: list = sorted(os.listdir(dir))\n",
    "    n: int = len(image_names)\n",
    "    images: np.ndarray = np.zeros([n, resolution ** 2])\n",
    "    for i, name in enumerate(image_names):\n",
    "        img: Image = Image.open(dir + \"//\"+ name)\n",
    "        images[i] = img.getdata(0)\n",
    "    return images, np.array(image_names)"
   ]
  },
  {
   "cell_type": "code",
   "execution_count": 50,
   "metadata": {},
   "outputs": [],
   "source": [
    "image_dir_train: str = \"c:/Users/finia/OneDrive - SBL/PrA/PCA of hand signs/Processed Images/Train/\"\n",
    "train, names_train = load_images(image_dir_train)\n",
    "train = train / 255\n",
    "k = 5\n",
    "dimensions = train.shape[1]\n",
    "points: np.ndarray = train"
   ]
  },
  {
   "cell_type": "code",
   "execution_count": 60,
   "metadata": {},
   "outputs": [
    {
     "name": "stdout",
     "output_type": "stream",
     "text": [
      "[2, 2, 2, 2, 2, 2, 2, 2, 2, 2, 2, 2, 2, 2, 2, 2, 2, 4, 2, 2, 3, 2, 2, 3, 2, 2, 4, 2, 2, 2, 2, 2, 2, 2, 2, 2, 3, 2, 3, 3, 3, 3, 3, 3, 3, 4, 4, 4, 4, 4, 4, 4, 3, 4, 4, 2, 2, 2, 2, 2, 2, 2, 2, 2, 2, 2, 2, 2, 2, 3, 2, 3, 3, 2, 4, 3, 3, 2, 3, 3, 2, 3, 2, 3, 2, 2, 4, 2, 3, 2, 2, 2, 2, 2, 2, 2, 2, 2, 2, 2, 4, 2, 4, 2, 4, 2, 3, 4, 3, 4, 3, 2, 3, 2, 3, 2, 3, 3, 2, 3, 3, 2, 3, 2, 2, 4, 3, 4, 4, 2, 3, 3, 3, 3, 3, 3, 3, 3, 3, 2, 3, 3, 2, 3, 3, 3, 3, 2, 3, 3, 3, 3, 3, 2, 3, 2, 2, 3, 2, 2, 2, 2, 2, 2, 2, 2, 2, 3, 2, 3, 2, 2, 2, 2, 2, 2, 2, 2, 2, 2, 2, 2, 2, 2, 3, 2, 2, 2, 2, 2, 2, 2, 3, 3, 3, 2, 2, 3, 2, 3, 2, 2, 2, 2, 2, 2, 2, 2, 2, 2, 4, 4, 3, 2, 2, 2, 2, 2, 4, 4, 2, 3, 3, 3, 3, 2, 3, 2, 2, 2, 2, 2, 2, 2, 2, 2, 2, 2, 2, 2, 2, 2, 2, 3, 3, 2, 2, 2, 2, 2, 2, 2, 2, 2, 2, 2, 2, 3, 3, 3, 3, 3, 3, 3, 2, 2, 2, 4, 3, 2, 3, 2, 2, 3, 3]\n",
      "[[       nan        nan        nan ...        nan        nan        nan]\n",
      " [       nan        nan        nan ...        nan        nan        nan]\n",
      " [0.60039683 0.60172736 0.60389823 ... 0.53260971 0.53447712 0.53618114]\n",
      " [0.59138223 0.59244735 0.59501331 ... 0.56499637 0.5661099  0.56717502]\n",
      " [0.54886878 0.54886878 0.55007541 ... 0.52760181 0.53016591 0.53514329]]\n"
     ]
    },
    {
     "name": "stderr",
     "output_type": "stream",
     "text": [
      "C:\\Users\\finia\\AppData\\Local\\Packages\\PythonSoftwareFoundation.Python.3.10_qbz5n2kfra8p0\\LocalCache\\local-packages\\Python310\\site-packages\\numpy\\core\\fromnumeric.py:3432: RuntimeWarning: Mean of empty slice.\n",
      "  return _methods._mean(a, axis=axis, dtype=dtype,\n",
      "C:\\Users\\finia\\AppData\\Local\\Packages\\PythonSoftwareFoundation.Python.3.10_qbz5n2kfra8p0\\LocalCache\\local-packages\\Python310\\site-packages\\numpy\\core\\_methods.py:190: RuntimeWarning: invalid value encountered in double_scalars\n",
      "  ret = ret.dtype.type(ret / rcount)\n"
     ]
    }
   ],
   "source": [
    "last_centroids: np.ndarray = np.zeros((k, dimensions))\n",
    "classification: list = []\n",
    "centroids: np.ndarray = init_centroids(k, find_range(points), dimensions)\n",
    "\n",
    "while is_not_converged(last_centroids, centroids):\n",
    "    last_centroids = centroids\n",
    "    centroids, classification = run_iteration(points, centroids, k)\n",
    "    break\n",
    "\n",
    "print(classification)\n",
    "print(centroids)"
   ]
  }
 ],
 "metadata": {
  "kernelspec": {
   "display_name": "Python 3",
   "language": "python",
   "name": "python3"
  },
  "language_info": {
   "codemirror_mode": {
    "name": "ipython",
    "version": 3
   },
   "file_extension": ".py",
   "mimetype": "text/x-python",
   "name": "python",
   "nbconvert_exporter": "python",
   "pygments_lexer": "ipython3",
   "version": "3.10.11"
  }
 },
 "nbformat": 4,
 "nbformat_minor": 2
}
