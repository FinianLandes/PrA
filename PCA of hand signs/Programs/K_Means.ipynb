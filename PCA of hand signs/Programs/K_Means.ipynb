{
 "cells": [
  {
   "cell_type": "code",
   "execution_count": 36,
   "metadata": {},
   "outputs": [],
   "source": [
    "### Imports\n",
    "import numpy as np\n",
    "from PIL import Image\n",
    "import os\n",
    "import matplotlib.pyplot as plt \n",
    "from sklearn.cluster import KMeans"
   ]
  },
  {
   "cell_type": "code",
   "execution_count": 44,
   "metadata": {},
   "outputs": [],
   "source": [
    "def init_centroids(k: int, points: np.ndarray) -> np.ndarray:\n",
    "    n: int = len(points) // k\n",
    "    indicies: np.ndarray = np.arange(len(points))\n",
    "    np.random.shuffle(indicies)\n",
    "    init_centroids: np.ndarray = np.array([np.mean(points[indicies[n * i:n *(i + 1)]], axis = 0) for i in range(0, k)])\n",
    "    return init_centroids\n",
    "\n",
    "def init_centroids_kmeans_pp(k: int, points: np.ndarray) -> np.ndarray:\n",
    "    centroids = []\n",
    "    # Randomly select the first centroid\n",
    "    centroids.append(points[np.random.randint(points.shape[0])])\n",
    "    \n",
    "    # Select the remaining centroids\n",
    "    for _ in range(1, k):\n",
    "        # Calculate the distance of each point to the nearest selected centroid\n",
    "        distances = np.array([min(np.sum((point - centroid) ** 2) for centroid in centroids) for point in points])\n",
    "        # Calculate probabilities proportional to squared distances\n",
    "        probs = distances / distances.sum()\n",
    "        cumulative_probs = np.cumsum(probs)\n",
    "        r = np.random.rand()\n",
    "        # Select the next centroid based on the distance-weighted probability\n",
    "        for j, p in enumerate(cumulative_probs):\n",
    "            if r < p:\n",
    "                centroids.append(points[j])\n",
    "                break\n",
    "    \n",
    "    return np.array(centroids)\n",
    "def run_iteration(points: np.ndarray, centroids: np.ndarray, k: int) -> tuple[np.ndarray, list]:\n",
    "    classification: list = []\n",
    "    clusters: list[np.ndarray] = [[] for _ in range(k)]\n",
    "    new_centroids: np.ndarray = np.zeros((k, points.shape[1]))\n",
    "    for point in points:\n",
    "        distances: list = [np.sqrt(np.sum((point - centroid)**2)) for centroid in centroids]\n",
    "        classification.append(np.argmin(distances))\n",
    "        clusters[classification[-1]].append(point)\n",
    "\n",
    "    for i in range(len(centroids)):\n",
    "        if len(clusters[i]) == 0:\n",
    "            new_centroids[i] = points[np.random.randint(0, points.shape[0])]\n",
    "        else:\n",
    "            new_centroids[i] = np.mean(clusters[i], axis = 0)\n",
    "\n",
    "    return new_centroids, classification\n",
    "\n",
    "def is_not_converged(last_centroids: np.ndarray, current_centroids: np.ndarray, e: float = 1e-20) -> bool:\n",
    "    dist: float = 0\n",
    "    for  i in range(len(last_centroids)):\n",
    "        dist += np.sqrt(np.sum((last_centroids[i] - current_centroids[i]) ** 2))\n",
    "    print(dist)\n",
    "    return dist > e\n",
    "\n",
    "def load_images(dir: str, size: int = 256, grayscale: bool = True) -> np.ndarray:\n",
    "    image_names: list = sorted(os.listdir(dir))\n",
    "    n: int = len(image_names)\n",
    "    images: np.ndarray = np.zeros([n, size ** 2])\n",
    "    for i, name in enumerate(image_names):\n",
    "        img: Image = Image.open(dir + \"//\"+ name)\n",
    "        images[i] = img.getdata(0)\n",
    "    return images, np.array(image_names)\n",
    "\n",
    "def performance(centroids, points, labels):\n",
    "    dist = 0\n",
    "    for i, point in enumerate(points):\n",
    "        dist += np.linalg.norm(point - centroids[labels[i]])\n",
    "    return dist"
   ]
  },
  {
   "cell_type": "code",
   "execution_count": 38,
   "metadata": {},
   "outputs": [],
   "source": [
    "image_dir_train: str = \"c:/Users/finia/OneDrive - SBL/PrA/PCA of hand signs/Processed Images/Train/\"\n",
    "train, names_train = load_images(image_dir_train)\n",
    "train = train / 255\n",
    "k = 4\n",
    "dimensions = 2\n",
    "points: np.ndarray = train"
   ]
  },
  {
   "cell_type": "code",
   "execution_count": 46,
   "metadata": {},
   "outputs": [
    {
     "name": "stdout",
     "output_type": "stream",
     "text": [
      "26.41172598232428\n",
      "2.1620561120783632\n",
      "0.9289195702804695\n",
      "0.43018893548802895\n",
      "0.12453052672472414\n",
      "0.2946464369551889\n",
      "0.11052761272971813\n",
      "0.0\n",
      "Final centroids: [[4.94806116 5.7582306 ]\n",
      " [6.07298805 4.90743255]\n",
      " [4.1717177  4.4667684 ]\n",
      " [6.66254931 3.86334668]]\n",
      "7\n",
      "35.42823128170366\n",
      "33.67522278621575\n"
     ]
    },
    {
     "data": {
      "image/png": "[encoded data removed]",
      "text/plain": [
       "<Figure size 640x480 with 1 Axes>"
      ]
     },
     "metadata": {},
     "output_type": "display_data"
    }
   ],
   "source": [
    "np.random.seed(214013275)\n",
    "\n",
    "# Generate points for three clusters\n",
    "cluster_1 = np.random.randn(55, 2) + np.array([5, 5])\n",
    "\n",
    "\n",
    "# Combine the clusters into a single dataset\n",
    "points = np.vstack((cluster_1))\n",
    "plt.scatter(points[:, 0], points[:, 1], c='blue', marker='o')\n",
    "plt.title('Test Point Set for K-Means Clustering')\n",
    "plt.xlabel('X')\n",
    "plt.ylabel('Y')\n",
    "plt.grid(True)\n",
    "\n",
    "classification: list = []\n",
    "centroids = init_centroids_kmeans_pp(k, points)\n",
    "last_centroids = np.zeros_like(centroids)\n",
    "iteration = 0\n",
    "while is_not_converged(last_centroids, centroids):\n",
    "    iteration += 1\n",
    "    last_centroids = centroids.copy()\n",
    "    centroids, classification = run_iteration(points, centroids, k)\n",
    "\n",
    "print(\"Final centroids:\", centroids)\n",
    "print(iteration)\n",
    "plt.scatter(centroids[:, 0], centroids[:, 1], c='red', marker='o')\n",
    "\n",
    "print(performance(centroids, points, classification))\n",
    "\n",
    "\n",
    "kmeans = KMeans(n_clusters=k, init=\"k-means++\", max_iter=300, n_init=10, random_state=0)\n",
    "kmeans.fit(points)  # Fit the model to your data\n",
    "\n",
    "# Get the results\n",
    "centroids = kmeans.cluster_centers_\n",
    "labels = kmeans.labels_\n",
    "print(performance(centroids, points, labels))\n",
    "plt.scatter(centroids[:, 0], centroids[:, 1], c='green', marker='o')\n",
    "plt.show()"
   ]
  }
 ],
 "metadata": {
  "kernelspec": {
   "display_name": "Python 3",
   "language": "python",
   "name": "python3"
  },
  "language_info": {
   "codemirror_mode": {
    "name": "ipython",
    "version": 3
   },
   "file_extension": ".py",
   "mimetype": "text/x-python",
   "name": "python",
   "nbconvert_exporter": "python",
   "pygments_lexer": "ipython3",
   "version": "3.10.11"
  }
 },
 "nbformat": 4,
 "nbformat_minor": 2
}
