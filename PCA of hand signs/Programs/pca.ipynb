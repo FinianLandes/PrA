{
 "cells": [
  {
   "cell_type": "markdown",
   "metadata": {},
   "source": [
    "# PCA Algorithm to distinguish different hand signs\n",
    "By Mailin Brandt and Finian landes"
   ]
  },
  {
   "cell_type": "code",
   "execution_count": 2,
   "metadata": {},
   "outputs": [],
   "source": [
    "### Imports\n",
    "import numpy as np\n",
    "from PIL import Image\n",
    "import os"
   ]
  },
  {
   "cell_type": "code",
   "execution_count": 3,
   "metadata": {},
   "outputs": [],
   "source": [
    "def load_images(dir: str, resolution: int = 256, grayscale: bool = True) -> np.ndarray:\n",
    "    image_names: list = sorted(os.listdir(dir))\n",
    "    n: int = len(image_names)\n",
    "    images: np.ndarray = np.zeros([n, resolution ** 2])\n",
    "    for i, name in enumerate(image_names):\n",
    "        img: Image = Image.open(dir + \"//\"+ name)\n",
    "        images[i] = img.getdata(0)\n",
    "    return images, np.array(image_names)\n",
    "\n",
    "def get_train_test_dataset(images: np.ndarray, image_names: list[str], n_test) -> list[np.ndarray]:\n",
    "    indices: list = np.random.choice(len(images), n_test, replace = False)\n",
    "    test: np.ndarray = images[indices]\n",
    "    names_test: list[str] = image_names[indices]\n",
    "    train: np.ndarray = np.delete(images, indices, axis = 0)\n",
    "    names_train: list[str] = np.delete(image_names, indices)\n",
    "    return train, test, names_train, names_test\n",
    "\n",
    "def closest_neighbour(p: np.ndarray, m: np.ndarray , U: np.ndarray, B: np.ndarray, C: np.ndarray) -> int:\n",
    "    c1: np.ndarray = np.matmul(U, p-m)\n",
    "    d: np.ndarray = np.sum((c1 - C.T)**2, axis=1)\n",
    "    return np.argmin(d)\n",
    "\n",
    "def coeff_matrix(m: np.ndarray, U: np.ndarray, B: np.ndarray) -> np.ndarray:\n",
    "    return np.matmul(U, (B-m).T)\n"
   ]
  },
  {
   "cell_type": "code",
   "execution_count": 14,
   "metadata": {},
   "outputs": [
    {
     "name": "stdout",
     "output_type": "stream",
     "text": [
      "Success rate: 100.0%\n",
      "By comparison, an algorithm that only guessed would have a success rate of 33.33%\n"
     ]
    }
   ],
   "source": [
    "image_dir: str = \"c:/Users/finia/OneDrive - SBL/PrA/PCA of hand signs/Processed Images\"\n",
    "n_test_images: int = 3\n",
    "images, image_names= load_images(image_dir)\n",
    "train, test, names_train, names_test = get_train_test_dataset(images, image_names, n_test_images)\n",
    "\n",
    "meanface: np.ndarray = np.mean(train, axis=0)\n",
    "A: np.ndarray = train - meanface\n",
    "U, s, VT = np.linalg.svd(A.transpose(), full_matrices=False)\n",
    "U: np.ndarray = U.transpose()\n",
    "\n",
    "C: np.ndarray = coeff_matrix(meanface, U, train)\n",
    "successes: int = 0\n",
    "for j in range(len(test)):\n",
    "    p: np.ndarray = test[j]\n",
    "    i: int = closest_neighbour(p, meanface, U, train, C)\n",
    "    pred_name: str = names_train[i][:-7] #Removes image name suffix _XX.jpg\n",
    "    real_name: str = names_test[j][:-7]\n",
    "    successes += (real_name == pred_name)\n",
    "\n",
    "s: int = successes/len(test)\n",
    "print (\"Success rate: \"+str(np.round(s * 100, 2)) +\"%\")\n",
    "print (\"By comparison, an algorithm that only guessed would have a success rate of \"+str(np.round(1 / n_test_images * 100, 2))+\"%\")"
   ]
  }
 ],
 "metadata": {
  "kernelspec": {
   "display_name": "Python 3",
   "language": "python",
   "name": "python3"
  },
  "language_info": {
   "codemirror_mode": {
    "name": "ipython",
    "version": 3
   },
   "file_extension": ".py",
   "mimetype": "text/x-python",
   "name": "python",
   "nbconvert_exporter": "python",
   "pygments_lexer": "ipython3",
   "version": "3.10.11"
  }
 },
 "nbformat": 4,
 "nbformat_minor": 2
}
