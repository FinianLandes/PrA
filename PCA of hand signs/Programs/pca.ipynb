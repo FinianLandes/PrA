{
 "cells": [
  {
   "cell_type": "markdown",
   "metadata": {},
   "source": [
    "# PCA Algorithm to distinguish different hand signs\n",
    "By Mailin Brandt and Finian landes"
   ]
  },
  {
   "cell_type": "code",
   "execution_count": 1,
   "metadata": {},
   "outputs": [],
   "source": [
    "### Imports\n",
    "import numpy as np\n",
    "from PIL import Image\n",
    "import os"
   ]
  },
  {
   "cell_type": "code",
   "execution_count": 2,
   "metadata": {},
   "outputs": [],
   "source": [
    "def load_images(dir: str, resolution: int = 256, grayscale: bool = True) -> np.ndarray:\n",
    "    image_names: list = sorted(os.listdir(dir))\n",
    "    n: int = len(image_names)\n",
    "    images: np.ndarray = np.zeros([n, resolution ** 2])\n",
    "    for i, name in enumerate(image_names):\n",
    "        img: Image = Image.open(dir + \"//\"+ name)\n",
    "        images[i] = img.getdata(0)\n",
    "    return images, np.array(image_names)\n",
    "\n",
    "def get_train_test_dataset(images: np.ndarray, image_names: list[str], n_test) -> list[np.ndarray]:\n",
    "    indices: list = np.random.choice(len(images), n_test, replace = False)\n",
    "    test: np.ndarray = images[indices]\n",
    "    names_test: list[str] = image_names[indices]\n",
    "    train: np.ndarray = np.delete(images, indices, axis = 0)\n",
    "    names_train: list[str] = np.delete(image_names, indices)\n",
    "    return train, test, names_train, names_test\n",
    "\n",
    "def closest_neighbour(p: np.ndarray, m: np.ndarray , U: np.ndarray, B: np.ndarray, C: np.ndarray) -> int:\n",
    "    c1: np.ndarray = np.matmul(U, p-m)\n",
    "    d: np.ndarray = np.sum((c1 - C.T)**2, axis=1)\n",
    "    return np.argmin(d)\n",
    "\n",
    "def coeff_matrix(m: np.ndarray, U: np.ndarray, B: np.ndarray) -> np.ndarray:\n",
    "    return np.matmul(U, (B-m).T)\n"
   ]
  },
  {
   "cell_type": "code",
   "execution_count": 26,
   "metadata": {},
   "outputs": [
    {
     "name": "stdout",
     "output_type": "stream",
     "text": [
      "['crossed_00.jpg' 'crossed_01.jpg' 'crossed_02.jpg' 'crossed_03.jpg'\n",
      " 'crossed_04.jpg' 'crossed_05.jpg' 'crossed_06.jpg' 'crossed_07.jpg'\n",
      " 'crossed_08.jpg' 'crossed_09.jpg' 'crossed_10.jpg' 'crossed_11.jpg'\n",
      " 'crossed_12.jpg' 'crossed_13.jpg' 'crossed_14.jpg' 'easy_00.jpg'\n",
      " 'easy_01.jpg' 'easy_02.jpg' 'easy_03.jpg' 'easy_04.jpg' 'easy_05.jpg'\n",
      " 'easy_06.jpg' 'easy_07.jpg' 'easy_08.jpg' 'easy_09.jpg' 'easy_10.jpg'\n",
      " 'easy_11.jpg' 'easy_12.jpg' 'easy_13.jpg' 'easy_14.jpg' 'fist_00.jpg'\n",
      " 'fist_01.jpg' 'fist_02.jpg' 'fist_03.jpg' 'fist_04.jpg' 'fist_05.jpg'\n",
      " 'fist_06.jpg' 'fist_07.jpg' 'fist_08.jpg' 'fist_09.jpg' 'fist_10.jpg'\n",
      " 'fist_11.jpg' 'fist_12.jpg' 'fist_13.jpg' 'fist_14.jpg'\n",
      " 'high_five_00.jpg' 'high_five_01.jpg' 'high_five_02.jpg'\n",
      " 'high_five_03.jpg' 'high_five_04.jpg' 'high_five_05.jpg'\n",
      " 'high_five_06.jpg' 'high_five_07.jpg' 'high_five_08.jpg'\n",
      " 'high_five_09.jpg' 'high_five_10.jpg' 'high_five_11.jpg'\n",
      " 'high_five_12.jpg' 'high_five_13.jpg' 'high_five_14.jpg' 'index_00.jpg'\n",
      " 'index_01.jpg' 'index_02.jpg' 'index_03.jpg' 'index_04.jpg'\n",
      " 'index_05.jpg' 'index_06.jpg' 'index_07.jpg' 'index_08.jpg'\n",
      " 'index_09.jpg' 'index_10.jpg' 'index_11.jpg' 'index_12.jpg'\n",
      " 'index_13.jpg' 'index_14.jpg' 'metal_00.jpg' 'metal_01.jpg'\n",
      " 'metal_02.jpg' 'metal_03.jpg' 'metal_04.jpg' 'metal_05.jpg'\n",
      " 'metal_06.jpg' 'metal_07.jpg' 'metal_08.jpg' 'metal_09.jpg'\n",
      " 'metal_10.jpg' 'metal_11.jpg' 'metal_12.jpg' 'metal_13.jpg'\n",
      " 'metal_14.jpg' 'okay_00.jpg' 'okay_01.jpg' 'okay_02.jpg' 'okay_03.jpg'\n",
      " 'okay_04.jpg' 'okay_05.jpg' 'okay_06.jpg' 'okay_07.jpg' 'okay_08.jpg'\n",
      " 'okay_09.jpg' 'okay_10.jpg' 'okay_11.jpg' 'okay_12.jpg' 'okay_13.jpg'\n",
      " 'okay_14.jpg' 'peace_00.jpg' 'peace_01.jpg' 'peace_02.jpg' 'peace_03.jpg'\n",
      " 'peace_04.jpg' 'peace_05.jpg' 'peace_06.jpg' 'peace_07.jpg'\n",
      " 'peace_08.jpg' 'peace_09.jpg' 'peace_10.jpg' 'peace_11.jpg'\n",
      " 'peace_12.jpg' 'peace_13.jpg' 'peace_14.jpg' 'pistol_00.jpg'\n",
      " 'pistol_01.jpg' 'pistol_02.jpg' 'pistol_03.jpg' 'pistol_04.jpg'\n",
      " 'pistol_05.jpg' 'pistol_06.jpg' 'pistol_07.jpg' 'pistol_08.jpg'\n",
      " 'pistol_09.jpg' 'pistol_10.jpg' 'pistol_11.jpg' 'pistol_12.jpg'\n",
      " 'pistol_13.jpg' 'pistol_14.jpg' 'thumbs_up_00.jpg' 'thumbs_up_01.jpg'\n",
      " 'thumbs_up_02.jpg' 'thumbs_up_03.jpg' 'thumbs_up_04.jpg'\n",
      " 'thumbs_up_05.jpg' 'thumbs_up_06.jpg' 'thumbs_up_07.jpg'\n",
      " 'thumbs_up_08.jpg' 'thumbs_up_09.jpg' 'thumbs_up_10.jpg'\n",
      " 'thumbs_up_11.jpg' 'thumbs_up_12.jpg' 'thumbs_up_13.jpg'\n",
      " 'thumbs_up_14.jpg']\n",
      "['crossed_00.jpg' 'crossed_01.jpg' 'crossed_02.jpg' 'easy_00.jpg'\n",
      " 'easy_01.jpg' 'easy_02.jpg' 'fist_00.jpg' 'fist_01.jpg' 'fist_02.jpg'\n",
      " 'high_five_00.jpg' 'high_five_01.jpg' 'high_five_02.jpg' 'index_00.jpg'\n",
      " 'index_01.jpg' 'index_02.jpg' 'metal_00.jpg' 'metal_01.jpg'\n",
      " 'metal_02.jpg' 'okay_00.jpg' 'okay_01.jpg' 'okay_02.jpg' 'peace_00.jpg'\n",
      " 'peace_01.jpg' 'peace_02.jpg' 'pistol_00.jpg' 'pistol_01.jpg'\n",
      " 'pistol_02.jpg' 'thumbs_up_00.jpg' 'thumbs_up_01.jpg' 'thumbs_up_02.jpg']\n",
      "Success rate: 50.0%\n",
      "By comparison, an algorithm that only guessed would have a success rate of 3.33%\n"
     ]
    }
   ],
   "source": [
    "image_dir_train: str = \"c:/Users/finia/OneDrive - SBL/PrA/PCA of hand signs/Processed Images/Train\"\n",
    "image_dir_test: str = \"c:/Users/finia/OneDrive - SBL/PrA/PCA of hand signs/Processed Images/Test\"\n",
    "n_test_images: int = 30\n",
    "train, names_train = load_images(image_dir_train)\n",
    "print(names_train)\n",
    "test, names_test = load_images(image_dir_test)\n",
    "print(names_test)\n",
    "#train, test, names_train, names_test = get_train_test_dataset(images, image_names, n_test_images)\n",
    "\n",
    "meanface: np.ndarray = np.mean(train, axis=0)\n",
    "A: np.ndarray = train - meanface\n",
    "U, s, VT = np.linalg.svd(A.transpose(), full_matrices=False)\n",
    "U: np.ndarray = U.transpose()\n",
    "\n",
    "C: np.ndarray = coeff_matrix(meanface, U, train)\n",
    "successes: int = 0\n",
    "for j in range(len(test)):\n",
    "    p: np.ndarray = test[j]\n",
    "    i: int = closest_neighbour(p, meanface, U, train, C)\n",
    "    pred_name: str = names_train[i][:-7] #Removes image name suffix _XX.jpg\n",
    "    real_name: str = names_test[j][:-7]\n",
    "    successes += (real_name == pred_name)\n",
    "\n",
    "s: int = successes/len(test)\n",
    "print (\"Success rate: \"+str(np.round(s * 100, 2)) +\"%\")\n",
    "print (\"By comparison, an algorithm that only guessed would have a success rate of \"+str(np.round(1 / n_test_images * 100, 2))+\"%\")"
   ]
  }
 ],
 "metadata": {
  "kernelspec": {
   "display_name": "Python 3",
   "language": "python",
   "name": "python3"
  },
  "language_info": {
   "codemirror_mode": {
    "name": "ipython",
    "version": 3
   },
   "file_extension": ".py",
   "mimetype": "text/x-python",
   "name": "python",
   "nbconvert_exporter": "python",
   "pygments_lexer": "ipython3",
   "version": "3.10.11"
  }
 },
 "nbformat": 4,
 "nbformat_minor": 2
}
