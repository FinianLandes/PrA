{
 "cells": [
  {
   "cell_type": "markdown",
   "metadata": {},
   "source": [
    "# PCA Algorithm to distinguish different hand signs\n",
    "By Mailin Brandt and Finian landes"
   ]
  },
  {
   "cell_type": "code",
   "execution_count": 6,
   "metadata": {},
   "outputs": [],
   "source": [
    "### Imports\n",
    "import numpy as np\n",
    "from PIL import Image\n",
    "import os\n",
    "import matplotlib.pyplot as plt"
   ]
  },
  {
   "cell_type": "code",
   "execution_count": 7,
   "metadata": {},
   "outputs": [],
   "source": [
    "#Loads Images from dir, size has to be provided (image in format size x size)\n",
    "#returns images as vectors and image names as list\n",
    "def load_images(dir: str, size: int = 256, grayscale: bool = True) -> np.ndarray:\n",
    "    image_names: list = sorted(os.listdir(dir))\n",
    "    n: int = len(image_names)\n",
    "    images: np.ndarray = np.zeros([n, size ** 2])\n",
    "    for i, name in enumerate(image_names):\n",
    "        img: Image = Image.open(dir + \"//\"+ name)\n",
    "        images[i] = img.getdata(0)\n",
    "    return images, np.array(image_names)\n",
    "\n",
    "#Generates a random train and test set with n_test test items\n",
    "#returns train and test images and train and test names\n",
    "def get_train_test_dataset(images: np.ndarray, image_names: list[str], n_test: int) -> tuple[np.ndarray, np.ndarray, list, list]:\n",
    "    indices: list = np.random.choice(len(images), n_test, replace = False)\n",
    "    test: np.ndarray = images[indices]\n",
    "    names_test: list[str] = image_names[indices]\n",
    "    train: np.ndarray = np.delete(images, indices, axis = 0)\n",
    "    names_train: list[str] = np.delete(image_names, indices)\n",
    "    return train, test, names_train, names_test\n",
    "\n",
    "#Using the coeff_matrix, the eigenfaces and the meanface returns the index of the image which lies closest to point\n",
    "#Returns index of closest image\n",
    "def closest_neighbour(point: np.ndarray, meanface: np.ndarray , eigenfaces: np.ndarray, coeff_mat: np.ndarray) -> int:\n",
    "    c1: np.ndarray = np.matmul(eigenfaces, point - meanface)\n",
    "    distances: np.ndarray = np.sum((c1 - coeff_mat.T)**2, axis=1)\n",
    "    return np.argmin(distances)\n",
    "\n",
    "#Creates a matrix from the meanface, the eigenfaces and the passed points, which is used to increase efficiency of the PCA-Algorithm\n",
    "#Returns a matrix in form n x n where n is the number of images\n",
    "def coeff_matrix(meanface: np.ndarray, eigenfaces: np.ndarray, points: np.ndarray) -> np.ndarray:\n",
    "    return np.matmul(eigenfaces, (points - meanface).T)\n",
    "\n",
    "#Saves an image with a given filename stable for image in any format \n",
    "#Returns None\n",
    "def save_image(picture: np.ndarray, filename: str, location: str = \"c:/Users/finia/OneDrive - SBL/PrA/PCA of hand signs/Processed Images/Eigenfaces\", size: int = 256) -> None:\n",
    "    min_val: float = np.min(picture)\n",
    "    picture = picture - min_val\n",
    "    picture = picture / np.max(picture)\n",
    "    picture = (255 * picture).astype(np.uint8)\n",
    "    n_picture = np.reshape(picture, (size, size)).astype(dtype = np.uint8)\n",
    "    plt.imshow(n_picture, cmap = \"gray\")\n",
    "    plt.show()\n",
    "    im = Image.fromarray(n_picture, mode=\"L\")\n",
    "    im.save(location + \"/\" + filename + \".jpg\")\n",
    "\n",
    "#Gets the successes of a given test set \n",
    "#Returns the percentage of correct predictions\n",
    "def get_successes(test: np.ndarray, meanface: np.ndarray, eigenfaces: np.ndarray, coeff_mat: np.ndarray, names_train: list, names_test: list) -> float:\n",
    "    successes: int = 0\n",
    "    for j in range(len(test)):\n",
    "        p: np.ndarray = test[j]\n",
    "        i: int = closest_neighbour(p, meanface, eigenfaces, coeff_mat)\n",
    "        pred_name: str = names_train[i][:-7] #Removes image name suffix _XX.jpg\n",
    "        real_name: str = names_test[j][:-7]\n",
    "        successes += (real_name == pred_name)\n",
    "    return successes / len(test)\n",
    "    "
   ]
  },
  {
   "cell_type": "code",
   "execution_count": 14,
   "metadata": {},
   "outputs": [],
   "source": [
    "image_dir_train: str = \"c:/Users/finia/OneDrive - SBL/PrA/PCA of hand signs/Processed Images/Train/\"\n",
    "image_dir_test: str = \"c:/Users/finia/OneDrive - SBL/PrA/PCA of hand signs/Processed Images/Test\"\n",
    "n_test_images: int = 50\n",
    "train, names_train = load_images(image_dir_train)\n",
    "test, names_test = load_images(image_dir_test)\n",
    "\n",
    "#train, test, names_train, names_test = get_train_test_dataset(images, image_names, n_test_images)\n"
   ]
  },
  {
   "cell_type": "code",
   "execution_count": 15,
   "metadata": {},
   "outputs": [],
   "source": [
    "meanface: np.ndarray = np.mean(train, axis=0)\n",
    "A: np.ndarray = train - meanface\n",
    "eigenfaces, s, VT = np.linalg.svd(A.transpose(), full_matrices=False)\n",
    "eigenfaces: np.ndarray = eigenfaces.transpose()\n",
    "coeff_mat: np.ndarray = coeff_matrix(meanface, eigenfaces, train)"
   ]
  },
  {
   "cell_type": "code",
   "execution_count": 16,
   "metadata": {},
   "outputs": [
    {
     "name": "stdout",
     "output_type": "stream",
     "text": [
      "Success rate: 100.0%\n"
     ]
    }
   ],
   "source": [
    "s: float =  get_successes(test, meanface, eigenfaces, coeff_mat, names_train, names_test)\n",
    "\n",
    "print (\"Success rate: \"+str(np.round(s * 100, 2)) +\"%\")\n"
   ]
  }
 ],
 "metadata": {
  "kernelspec": {
   "display_name": "Python 3",
   "language": "python",
   "name": "python3"
  },
  "language_info": {
   "codemirror_mode": {
    "name": "ipython",
    "version": 3
   },
   "file_extension": ".py",
   "mimetype": "text/x-python",
   "name": "python",
   "nbconvert_exporter": "python",
   "pygments_lexer": "ipython3",
   "version": "3.10.11"
  }
 },
 "nbformat": 4,
 "nbformat_minor": 2
}
