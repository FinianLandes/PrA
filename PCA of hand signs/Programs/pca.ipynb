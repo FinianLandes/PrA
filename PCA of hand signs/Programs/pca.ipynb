{
 "cells": [
  {
   "cell_type": "markdown",
   "metadata": {},
   "source": [
    "# PCA Algorithm to distinguish different hand signs\n",
    "By Mailin Brandt and Finian landes"
   ]
  },
  {
   "cell_type": "code",
   "execution_count": 1,
   "metadata": {},
   "outputs": [],
   "source": [
    "### Imports\n",
    "import numpy as np\n",
    "from PIL import Image\n",
    "import os\n",
    "import matplotlib.pyplot as plt"
   ]
  },
  {
   "cell_type": "code",
   "execution_count": 96,
   "metadata": {},
   "outputs": [],
   "source": [
    "def load_images(dir: str, resolution: int = 256, grayscale: bool = True) -> np.ndarray:\n",
    "    image_names: list = sorted(os.listdir(dir))\n",
    "    n: int = len(image_names)\n",
    "    images: np.ndarray = np.zeros([n, resolution ** 2])\n",
    "    for i, name in enumerate(image_names):\n",
    "        img: Image = Image.open(dir + \"//\"+ name)\n",
    "        images[i] = img.getdata(0)\n",
    "    return images, np.array(image_names)\n",
    "\n",
    "def get_train_test_dataset(images: np.ndarray, image_names: list[str], n_test) -> list[np.ndarray]:\n",
    "    indices: list = np.random.choice(len(images), n_test, replace = False)\n",
    "    test: np.ndarray = images[indices]\n",
    "    names_test: list[str] = image_names[indices]\n",
    "    train: np.ndarray = np.delete(images, indices, axis = 0)\n",
    "    names_train: list[str] = np.delete(image_names, indices)\n",
    "    return train, test, names_train, names_test\n",
    "\n",
    "def closest_neighbour(p: np.ndarray, m: np.ndarray , U: np.ndarray, B: np.ndarray, C: np.ndarray) -> int:\n",
    "    c1: np.ndarray = np.matmul(U, p-m)\n",
    "    d: np.ndarray = np.sum((c1 - C.T)**2, axis=1)\n",
    "    return np.argmin(d)\n",
    "\n",
    "def coeff_matrix(m: np.ndarray, U: np.ndarray, B: np.ndarray) -> np.ndarray:\n",
    "    return np.matmul(U, (B - m).T)\n",
    "\n",
    "def save_image(picture: np.ndarray, filename: str, location: str = \"c:/Users/finia/OneDrive - SBL/PrA/PCA of hand signs/Processed Images/Eigenfaces\", resolution: int = 256) -> None:\n",
    "    min_val: float = np.min(picture)\n",
    "    picture = picture - min_val\n",
    "    picture = picture / np.max(picture)\n",
    "    picture = (255 * picture).astype(np.uint8)\n",
    "    n_picture = np.reshape(picture, (resolution, resolution)).astype(dtype = np.uint8)\n",
    "    plt.imshow(n_picture, cmap = \"gray\")\n",
    "    plt.show()\n",
    "    im = Image.fromarray(n_picture, mode=\"L\")\n",
    "    im.save(location + \"/\" + filename + \".jpg\")\n",
    "\n",
    "def init_centroids(k: int, points: np.ndarray) -> np.ndarray:\n",
    "    centroids: np.ndarray = points[np.random.choice(len(points), k, replace = False)]\n",
    "    return centroids\n",
    "\n",
    "\n",
    "def run_iteration(points: np.ndarray, centroids: np.ndarray, k: int) -> tuple[np.ndarray, list]:\n",
    "    classification: list = []\n",
    "    clusters: list[np.ndarray] = [[] for _ in range(k)]\n",
    "    new_centroids: np.ndarray = np.zeros((k, points.shape[1]))\n",
    "\n",
    "    for point in points:\n",
    "        distances: list[np.ndarray] = [np.linalg.norm(point - centroid) for centroid in centroids]\n",
    "        classification.append(np.argmin(distances))\n",
    "        clusters[classification[-1]].append(point)\n",
    "    for i in range(len(centroids)):\n",
    "        if len(clusters[i]) == 0:\n",
    "            new_centroids[i] = points[np.random.randint(0, points.shape[0])]\n",
    "        else:\n",
    "            new_centroids[i] = np.mean(clusters[i], axis = 0)\n",
    "    return classification, new_centroids\n",
    "\n",
    "def is_not_converged(last_centroids: np.ndarray, current_centroids: np.ndarray, e: float = 1e-20) -> bool:\n",
    "    dist: float = 0\n",
    "    for  i in range(len(last_centroids)):\n",
    "        dist += np.sqrt(np.sum((last_centroids[i] - current_centroids[i]) ** 2))\n",
    "    return dist > e\n",
    "\n",
    "def cluster_names(classification: list, names: list, k: int) -> list:\n",
    "    classified_names: list = [[] for _ in range(k)]\n",
    "    for i, name in enumerate(names):\n",
    "        classified_names[classification[i]].append(name)\n",
    "    return classified_names\n",
    "\n",
    "\n",
    "def compute_coefficients(p, U, m):\n",
    "    return np.matmul(U, p-m)\n",
    "\n",
    "def distance(p, q, m, U):\n",
    "    c1 = compute_coefficients(p, U, m)\n",
    "    c2 = compute_coefficients(q, U, m)\n",
    "    return np.sqrt(np.sum((c1-c2)**2))\n",
    "\n",
    "def outlying_distances(points: np.ndarray, meanface: np.ndarray) -> list:\n",
    "    dist: list = [distance(point, np.zeros_like(point), meanface, points) for point in points]\n",
    "    return dist\n"
   ]
  },
  {
   "cell_type": "code",
   "execution_count": 51,
   "metadata": {},
   "outputs": [],
   "source": [
    "image_dir_train: str = \"c:/Users/finia/OneDrive - SBL/PrA/PCA of hand signs/Processed Images/Train/\"\n",
    "image_dir_test: str = \"c:/Users/finia/OneDrive - SBL/PrA/PCA of hand signs/Processed Images/Test\"\n",
    "n_test_images: int = 50\n",
    "train, names_train = load_images(image_dir_train)\n",
    "test, names_test = load_images(image_dir_test)\n",
    "#train, test, names_train, names_test = get_train_test_dataset(images, image_names, n_test_images)\n",
    "k = 20\n",
    "dimensions = train.shape[1]"
   ]
  },
  {
   "cell_type": "code",
   "execution_count": 98,
   "metadata": {},
   "outputs": [
    {
     "name": "stdout",
     "output_type": "stream",
     "text": [
      "[(5.181584951578855e-08, 'thumbs_up_54.jpg'), (490071.97898937366, 'thumbs_up_53.jpg'), (757363.9790544088, 'thumbs_up_52.jpg'), (793231.1961857426, 'thumbs_up_51.jpg'), (845410.5712859697, 'thumbs_up_50.jpg'), (859212.1503885384, 'thumbs_up_49.jpg'), (909307.44016822, 'thumbs_up_48.jpg'), (922169.0913079008, 'thumbs_up_47.jpg'), (1010808.9662358696, 'thumbs_up_46.jpg'), (1039801.6934484039, 'thumbs_up_45.jpg'), (1045069.816016244, 'thumbs_up_44.jpg'), (1082428.7461077026, 'thumbs_up_43.jpg'), (1092289.050750638, 'thumbs_up_42.jpg'), (1103797.303230254, 'thumbs_up_41.jpg'), (1130520.0146661345, 'thumbs_up_40.jpg'), (1165245.337531629, 'thumbs_up_39.jpg'), (1180224.8259662248, 'thumbs_up_38.jpg'), (1209304.2572463339, 'thumbs_up_37.jpg'), (1223569.4263543908, 'thumbs_up_36.jpg'), (1237321.8006610335, 'thumbs_up_35.jpg'), (1291589.5631710377, 'thumbs_up_34.jpg'), (1302207.0154156545, 'thumbs_up_33.jpg'), (1318137.8630357198, 'thumbs_up_32.jpg'), (1370940.2855975714, 'thumbs_up_31.jpg'), (1381322.1705733812, 'thumbs_up_30.jpg'), (1408613.989944811, 'thumbs_up_29.jpg'), (1409625.4017101922, 'thumbs_up_28.jpg'), (1419837.4641384094, 'thumbs_up_27.jpg'), (1442168.3638446478, 'thumbs_up_26.jpg'), (1454377.9418743278, 'thumbs_up_25.jpg'), (1474116.0456638203, 'thumbs_up_24.jpg'), (1493013.9857250433, 'thumbs_up_23.jpg'), (1517031.0203149184, 'thumbs_up_22.jpg'), (1519466.7272693282, 'thumbs_up_21.jpg'), (1536066.8449832187, 'thumbs_up_20.jpg'), (1566078.2534896426, 'thumbs_up_19.jpg'), (1572136.3794410785, 'thumbs_up_18.jpg'), (1580921.674704215, 'thumbs_up_17.jpg'), (1600962.4666573103, 'thumbs_up_16.jpg'), (1624738.7470351926, 'thumbs_up_15.jpg'), (1634893.6884725522, 'thumbs_up_14.jpg'), (1640791.2714183873, 'thumbs_up_13.jpg'), (1662125.7693611123, 'thumbs_up_12.jpg'), (1675936.4932414275, 'thumbs_up_11.jpg'), (1709473.6258912846, 'thumbs_up_10.jpg'), (1717166.550663093, 'thumbs_up_09.jpg'), (1735577.402619517, 'thumbs_up_08.jpg'), (1755153.9134881722, 'thumbs_up_07.jpg'), (1775440.3872336904, 'thumbs_up_06.jpg'), (1786917.7247583414, 'thumbs_up_05.jpg'), (1796149.8650063002, 'thumbs_up_04.jpg'), (1824085.162051823, 'thumbs_up_03.jpg'), (1841177.5061696805, 'thumbs_up_02.jpg'), (1861762.0254975655, 'thumbs_up_01.jpg'), (1878427.7698865966, 'thumbs_up_00.jpg'), (1919053.6443904801, 'pistol_54.jpg'), (1936201.852163231, 'pistol_53.jpg'), (1952156.3756183153, 'pistol_52.jpg'), (1962567.4945907902, 'pistol_51.jpg'), (1991101.644825926, 'pistol_50.jpg'), (2001414.6841719225, 'pistol_49.jpg'), (2037368.5679122307, 'pistol_48.jpg'), (2045336.7659374028, 'pistol_47.jpg'), (2048257.307616442, 'pistol_46.jpg'), (2072801.460748992, 'pistol_45.jpg'), (2097353.9279008186, 'pistol_44.jpg'), (2112793.778304291, 'pistol_43.jpg'), (2131641.3855112325, 'pistol_42.jpg'), (2155976.8554171305, 'pistol_41.jpg'), (2169569.3553235196, 'pistol_40.jpg'), (2206056.4904897013, 'pistol_39.jpg'), (2236706.169848474, 'pistol_38.jpg'), (2247731.7567051374, 'pistol_37.jpg'), (2251091.509234492, 'pistol_36.jpg'), (2278657.1654679067, 'pistol_35.jpg'), (2287006.729927688, 'pistol_34.jpg'), (2326215.8838073816, 'pistol_33.jpg'), (2335761.829827886, 'pistol_32.jpg'), (2359897.2269068714, 'pistol_31.jpg'), (2379854.8098787423, 'pistol_30.jpg'), (2408147.4244667278, 'pistol_29.jpg'), (2420638.685172056, 'pistol_28.jpg'), (2468694.5811959677, 'pistol_27.jpg'), (2482046.248067419, 'pistol_26.jpg'), (2488980.1830503093, 'pistol_25.jpg'), (2511215.933545467, 'pistol_24.jpg'), (2536905.114691377, 'pistol_23.jpg'), (2568307.558265088, 'pistol_22.jpg'), (2587868.2673592176, 'pistol_21.jpg'), (2636831.4550007936, 'pistol_20.jpg'), (2651254.499327561, 'pistol_19.jpg'), (2660027.851657186, 'pistol_18.jpg'), (2688004.6628681216, 'pistol_17.jpg'), (2705604.664209719, 'pistol_16.jpg'), (2766096.4574874593, 'pistol_15.jpg'), (2768887.8377514705, 'pistol_14.jpg'), (2805010.231776476, 'pistol_13.jpg'), (2837271.096313125, 'pistol_12.jpg'), (2850964.8184072645, 'pistol_11.jpg'), (2884481.090090963, 'pistol_10.jpg'), (2901140.2666618773, 'pistol_09.jpg'), (2926663.825827221, 'pistol_08.jpg'), (2970912.9986741296, 'pistol_07.jpg'), (2992395.4656604966, 'pistol_06.jpg'), (3015021.635884526, 'pistol_05.jpg'), (3039347.9441547627, 'pistol_04.jpg'), (3057957.244368819, 'pistol_03.jpg'), (3122046.8963666074, 'pistol_02.jpg'), (3135132.226645752, 'pistol_01.jpg'), (3173924.2143133283, 'pistol_00.jpg'), (3192997.504848155, 'peace_54.jpg'), (3229239.5619467543, 'peace_53.jpg'), (3254232.338203563, 'peace_52.jpg'), (3265476.121724767, 'peace_51.jpg'), (3286573.684637241, 'peace_50.jpg'), (3359806.9262153385, 'peace_49.jpg'), (3380894.794083579, 'peace_48.jpg'), (3409399.8838949287, 'peace_47.jpg'), (3436873.6721757646, 'peace_46.jpg'), (3460179.744272681, 'peace_45.jpg'), (3500573.640061602, 'peace_44.jpg'), (3540549.1704335967, 'peace_43.jpg'), (3557546.0766538223, 'peace_42.jpg'), (3608861.613535098, 'peace_41.jpg'), (3647477.4122200552, 'peace_40.jpg'), (3665574.535527001, 'peace_39.jpg'), (3737691.1841512853, 'peace_38.jpg'), (3785358.0624128487, 'peace_37.jpg'), (3844205.6685673874, 'peace_36.jpg'), (3857479.5953741833, 'peace_35.jpg'), (3898784.152926116, 'peace_34.jpg'), (3955550.890574505, 'peace_33.jpg'), (3990397.8662950103, 'peace_32.jpg'), (4023822.2954755975, 'peace_31.jpg'), (4097975.1058395533, 'peace_30.jpg'), (4133133.434601016, 'peace_29.jpg'), (4173891.7658069567, 'peace_28.jpg'), (4182725.641499496, 'peace_27.jpg'), (4234481.855652814, 'peace_26.jpg'), (4270502.4572117515, 'peace_25.jpg'), (4369407.197702004, 'peace_24.jpg'), (4382492.686964563, 'peace_23.jpg'), (4464044.285494892, 'peace_22.jpg'), (4509528.735260287, 'peace_21.jpg'), (4532610.022268627, 'peace_20.jpg'), (4562545.870920566, 'peace_19.jpg'), (4608084.730998848, 'peace_18.jpg'), (4661927.606165942, 'peace_17.jpg'), (4744923.223283348, 'peace_16.jpg'), (4747677.680114901, 'peace_15.jpg'), (4812318.740135596, 'peace_14.jpg'), (4842469.22594892, 'peace_13.jpg'), (4890678.053998948, 'peace_12.jpg'), (5004392.201200061, 'peace_11.jpg'), (5094631.914884316, 'peace_10.jpg'), (5106151.900531301, 'peace_09.jpg'), (5187712.660427361, 'peace_08.jpg'), (5281415.160942291, 'peace_07.jpg'), (5336053.22044805, 'peace_06.jpg'), (5389451.313385652, 'peace_05.jpg'), (5439731.144905242, 'peace_04.jpg'), (5544024.63309491, 'peace_03.jpg'), (5570178.357798858, 'peace_02.jpg'), (5613058.362780485, 'peace_01.jpg'), (5652193.989636794, 'peace_00.jpg'), (5705155.224269004, 'metal_54.jpg'), (5826123.035215908, 'metal_53.jpg'), (5902083.319547989, 'metal_52.jpg'), (6020701.508769267, 'metal_51.jpg'), (6067074.7906073425, 'metal_50.jpg'), (6176223.05718394, 'metal_49.jpg'), (6211484.74788602, 'metal_48.jpg'), (6253871.83193709, 'metal_47.jpg'), (6466949.545040054, 'metal_46.jpg'), (6645223.9177073445, 'metal_45.jpg'), (6699271.289345239, 'metal_44.jpg'), (6772918.868817792, 'metal_43.jpg'), (6834593.533957344, 'metal_42.jpg'), (6987971.924279662, 'metal_41.jpg'), (7066813.657474654, 'metal_40.jpg'), (7162494.356299326, 'metal_39.jpg'), (7222777.240322632, 'metal_38.jpg'), (7467550.092410241, 'metal_37.jpg'), (7532577.730951086, 'metal_36.jpg'), (7626530.271172209, 'metal_35.jpg'), (7742036.357891769, 'metal_34.jpg'), (7840923.075697636, 'metal_33.jpg'), (7892699.859868533, 'metal_32.jpg'), (8025208.545522146, 'metal_31.jpg'), (8145795.960957121, 'metal_30.jpg'), (8199206.332591392, 'metal_29.jpg'), (8266829.942051446, 'metal_28.jpg'), (8382161.797425262, 'metal_27.jpg'), (8548469.199836202, 'metal_26.jpg'), (8774845.598348262, 'metal_25.jpg'), (8895243.238807, 'metal_24.jpg'), (9057991.53991153, 'metal_23.jpg'), (9295433.425891217, 'metal_22.jpg'), (9568172.793718291, 'metal_21.jpg'), (9894849.951754134, 'metal_20.jpg'), (9981056.055734616, 'metal_19.jpg'), (10077260.900061792, 'metal_18.jpg'), (10219979.240370696, 'metal_17.jpg'), (10365043.985495288, 'metal_16.jpg'), (10478802.990094857, 'metal_15.jpg'), (10776749.47483242, 'metal_14.jpg'), (10978958.41895453, 'metal_13.jpg'), (11319744.702098738, 'metal_12.jpg'), (11614288.645468544, 'metal_11.jpg'), (11714795.132988151, 'metal_10.jpg'), (11856205.201299751, 'metal_09.jpg'), (12324839.188178537, 'metal_08.jpg'), (12651559.191607805, 'metal_07.jpg'), (12979302.441606507, 'metal_06.jpg'), (13449900.474036625, 'metal_05.jpg'), (13494684.227868699, 'metal_04.jpg'), (13781872.48649632, 'metal_03.jpg'), (14057708.834463589, 'metal_02.jpg'), (14429173.775917135, 'metal_01.jpg'), (14976187.994619366, 'metal_00.jpg'), (15387103.51707197, 'easy_54.jpg'), (15471690.152288985, 'easy_53.jpg'), (15768320.509395692, 'easy_52.jpg'), (16134538.522470195, 'easy_51.jpg'), (16600553.6469385, 'easy_50.jpg'), (17498437.952982076, 'easy_49.jpg'), (17837122.883617923, 'easy_48.jpg'), (18603620.187666506, 'easy_47.jpg'), (19085923.140758105, 'easy_46.jpg'), (20165454.972152527, 'easy_45.jpg'), (20198119.7868547, 'easy_44.jpg'), (20764893.548961643, 'easy_43.jpg'), (21238645.24573355, 'easy_42.jpg'), (22617072.45095671, 'easy_41.jpg'), (23554221.764548816, 'easy_40.jpg'), (23859243.780802406, 'easy_39.jpg'), (25379441.486147564, 'easy_38.jpg'), (26003301.351141475, 'easy_37.jpg'), (27161733.899406463, 'easy_36.jpg'), (28877682.61632753, 'easy_35.jpg'), (31065224.124459073, 'easy_34.jpg'), (33642641.75621923, 'easy_33.jpg'), (33989423.6124931, 'easy_32.jpg'), (34896379.928251, 'easy_31.jpg'), (38847967.16629471, 'easy_30.jpg'), (39191434.81965778, 'easy_29.jpg'), (41254208.26672575, 'easy_28.jpg'), (42774630.76524379, 'easy_27.jpg'), (44256560.021561444, 'easy_26.jpg'), (47054355.66366144, 'easy_25.jpg'), (49196627.34631045, 'easy_24.jpg'), (54960941.2343386, 'easy_23.jpg'), (58198892.96663968, 'easy_22.jpg'), (59246579.62800558, 'easy_21.jpg'), (65598675.29241077, 'easy_20.jpg'), (72294799.69758672, 'easy_19.jpg'), (81929752.16820046, 'easy_18.jpg'), (83620853.06719525, 'easy_17.jpg'), (90594560.58728436, 'easy_16.jpg'), (97018512.2422701, 'easy_15.jpg'), (109439281.59228559, 'easy_14.jpg'), (114831261.250343, 'easy_13.jpg'), (125607778.70153113, 'easy_12.jpg'), (134146581.87695102, 'easy_11.jpg'), (156437332.74910697, 'easy_10.jpg'), (189906320.88166565, 'easy_09.jpg'), (239687698.71945184, 'easy_08.jpg'), (263037245.9028023, 'easy_07.jpg'), (281126198.75968784, 'easy_06.jpg'), (351980720.66854244, 'easy_05.jpg'), (405017846.08317393, 'easy_04.jpg'), (474200464.6944249, 'easy_03.jpg'), (570104648.6687258, 'easy_02.jpg'), (886360756.9075397, 'easy_01.jpg'), (2286334367.7150455, 'easy_00.jpg')]\n"
     ]
    }
   ],
   "source": [
    "meanface: np.ndarray = np.mean(train, axis=0)\n",
    "A: np.ndarray = train - meanface\n",
    "U, s, VT = np.linalg.svd(A.transpose(), full_matrices=False)\n",
    "U: np.ndarray = U.transpose()\n",
    "C: np.ndarray = coeff_matrix(meanface, U, train)\n",
    "\n",
    "\n",
    "distances = np.array(outlying_distances(np.matmul(C, U), meanface))\n",
    "\n",
    "new_names = np.array(names_train)\n",
    "sorted_indicies = np.argsort(distances)\n",
    "distances = distances[sorted_indicies]\n",
    "new_names = new_names[sorted_indicies]\n",
    "\n",
    "\n",
    "avg = sum(distances) / len(distances)\n",
    "\n",
    "print(list(zip(distances, new_names)))\n",
    "\n",
    "#Lower 1000\n",
    "#Upper 5000"
   ]
  },
  {
   "cell_type": "code",
   "execution_count": 94,
   "metadata": {},
   "outputs": [
    {
     "name": "stdout",
     "output_type": "stream",
     "text": [
      "1\n",
      "1\n",
      "1\n",
      "1\n",
      "1\n",
      "1\n",
      "256\n",
      "1\n",
      "1\n",
      "1\n",
      "1\n",
      "1\n",
      "1\n",
      "1\n",
      "1\n",
      "1\n",
      "1\n",
      "1\n",
      "1\n",
      "1\n"
     ]
    }
   ],
   "source": [
    "points: np.ndarray = np.matmul(C, U)\n",
    "last_centroids: np.ndarray = np.zeros((k, dimensions))\n",
    "classification: list = []\n",
    "centroids = init_centroids(k, points)\n",
    "last_centroids = np.zeros_like(centroids)\n",
    "i = 0\n",
    "\n",
    "while is_not_converged(last_centroids, centroids):\n",
    "    i += 1\n",
    "    last_centroids = centroids.copy()\n",
    "    classification, centroids = run_iteration(points, centroids, k)\n",
    "\n",
    "#save_image(centroids[0], \"test\")\n",
    "cluster_n = cluster_names(classification, names_train,k)\n",
    "for clster in cluster_n:\n",
    "    print(len(clster))\n"
   ]
  },
  {
   "cell_type": "code",
   "execution_count": 7,
   "metadata": {},
   "outputs": [
    {
     "name": "stdout",
     "output_type": "stream",
     "text": [
      "Success rate: 100.0%\n"
     ]
    }
   ],
   "source": [
    "successes: int = 0\n",
    "for j in range(len(test)):\n",
    "    p: np.ndarray = test[j]\n",
    "    i: int = closest_neighbour(p, meanface, U, train, C)\n",
    "    pred_name: str = names_train[i][:-7] #Removes image name suffix _XX.jpg\n",
    "    real_name: str = names_test[j][:-7]\n",
    "    #print(pred_name, real_name)\n",
    "    successes += (real_name == pred_name)\n",
    "\n",
    "s: int = successes/len(test)\n",
    "print (\"Success rate: \"+str(np.round(s * 100, 2)) +\"%\")\n"
   ]
  }
 ],
 "metadata": {
  "kernelspec": {
   "display_name": "Python 3",
   "language": "python",
   "name": "python3"
  },
  "language_info": {
   "codemirror_mode": {
    "name": "ipython",
    "version": 3
   },
   "file_extension": ".py",
   "mimetype": "text/x-python",
   "name": "python",
   "nbconvert_exporter": "python",
   "pygments_lexer": "ipython3",
   "version": "3.10.11"
  }
 },
 "nbformat": 4,
 "nbformat_minor": 2
}
