{
 "cells": [
  {
   "cell_type": "markdown",
   "metadata": {},
   "source": [
    "# PCA Algorithm to distinguish different hand signs extended with K-Means\n",
    "By Mailin Brandt and Finian landes"
   ]
  },
  {
   "cell_type": "code",
   "execution_count": 17,
   "metadata": {},
   "outputs": [],
   "source": [
    "### Imports\n",
    "import numpy as np\n",
    "from PIL import Image\n",
    "import os\n",
    "import matplotlib.pyplot as plt\n",
    "import statistics"
   ]
  },
  {
   "cell_type": "code",
   "execution_count": 11,
   "metadata": {},
   "outputs": [],
   "source": [
    "def load_images(dir: str, resolution: int = 256, grayscale: bool = True) -> np.ndarray:\n",
    "    image_names: list = sorted(os.listdir(dir))\n",
    "    n: int = len(image_names)\n",
    "    images: np.ndarray = np.zeros([n, resolution ** 2])\n",
    "    for i, name in enumerate(image_names):\n",
    "        img: Image = Image.open(dir + \"//\"+ name)\n",
    "        images[i] = img.getdata(0)\n",
    "    return images, np.array(image_names)\n",
    "\n",
    "def get_train_test_dataset(images: np.ndarray, image_names: list[str], n_test) -> list[np.ndarray]:\n",
    "    indices: list = np.random.choice(len(images), n_test, replace = False)\n",
    "    test: np.ndarray = images[indices]\n",
    "    names_test: list[str] = image_names[indices]\n",
    "    train: np.ndarray = np.delete(images, indices, axis = 0)\n",
    "    names_train: list[str] = np.delete(image_names, indices)\n",
    "    return train, test, names_train, names_test\n",
    "\n",
    "def closest_neighbour(p: np.ndarray, m: np.ndarray , U: np.ndarray, B: np.ndarray, C: np.ndarray) -> int:\n",
    "    c1: np.ndarray = np.matmul(U, p-m)\n",
    "    d: np.ndarray = np.sum((c1 - C.T)**2, axis=1)\n",
    "    return np.argmin(d)\n",
    "\n",
    "def coeff_matrix(m: np.ndarray, U: np.ndarray, B: np.ndarray) -> np.ndarray:\n",
    "    return np.matmul(U, (B - m).T)\n",
    "\n",
    "def save_image(picture: np.ndarray, filename: str, location: str = \"c:/Users/finia/OneDrive - SBL/PrA/PCA of hand signs/Processed Images/Eigenfaces\", resolution: int = 256) -> None:\n",
    "    min_val: float = np.min(picture)\n",
    "    picture = picture - min_val\n",
    "    picture = picture / np.max(picture)\n",
    "    picture = (255 * picture).astype(np.uint8)\n",
    "    n_picture = np.reshape(picture, (resolution, resolution)).astype(dtype = np.uint8)\n",
    "    plt.imshow(n_picture, cmap = \"gray\")\n",
    "    plt.show()\n",
    "    im = Image.fromarray(n_picture, mode=\"L\")\n",
    "    im.save(location + \"/\" + filename + \".jpg\")\n",
    "\n",
    "def init_centroids(k: int, points: np.ndarray) -> np.ndarray:\n",
    "    centroids: np.ndarray = points[np.random.choice(len(points), k, replace = False)]\n",
    "    return centroids\n",
    "\n",
    "\n",
    "def run_iteration(points: np.ndarray, centroids: np.ndarray, k: int) -> tuple[np.ndarray, list]:\n",
    "    classification: list = []\n",
    "    clusters: list[np.ndarray] = [[] for _ in range(k)]\n",
    "    new_centroids: np.ndarray = np.zeros((k, points.shape[1]))\n",
    "\n",
    "    for point in points:\n",
    "        distances: list[np.ndarray] = [np.linalg.norm(point - centroid) for centroid in centroids]\n",
    "        classification.append(np.argmin(distances))\n",
    "        clusters[classification[-1]].append(point)\n",
    "    for i in range(len(centroids)):\n",
    "        if len(clusters[i]) == 0:\n",
    "            new_centroids[i] = points[np.random.randint(0, points.shape[0])]\n",
    "        else:\n",
    "            new_centroids[i] = np.mean(clusters[i], axis = 0)\n",
    "    return classification, new_centroids\n",
    "\n",
    "def is_not_converged(last_centroids: np.ndarray, current_centroids: np.ndarray, e: float = 1e-20) -> bool:\n",
    "    dist: float = 0\n",
    "    for  i in range(len(last_centroids)):\n",
    "        dist += np.sqrt(np.sum((last_centroids[i] - current_centroids[i]) ** 2))\n",
    "    return dist > e\n",
    "\n",
    "def cluster_names(classification: list, names: list, k: int) -> list:\n",
    "    classified_names: list = [[] for _ in range(k)]\n",
    "    for i, name in enumerate(names):\n",
    "        classified_names[classification[i]].append(name)\n",
    "    return classified_names\n",
    "\n",
    "\n",
    "def compute_coefficients(p, U, m):\n",
    "    return np.matmul(U, p-m)\n",
    "\n",
    "def distance(p, q, m, U):\n",
    "    c1 = compute_coefficients(p, U, m)\n",
    "    c2 = compute_coefficients(q, U, m)\n",
    "    return np.sqrt(np.sum((c1-c2)**2))\n",
    "\n",
    "def outlying_distances(points: np.ndarray) -> list:\n",
    "    mean: np.ndarray = np.mean(points, axis = 0)\n",
    "    dist: list = [distance(point, np.zeros_like(point), mean, points) for point in points]\n",
    "    return dist\n"
   ]
  },
  {
   "cell_type": "code",
   "execution_count": 8,
   "metadata": {},
   "outputs": [],
   "source": [
    "image_dir_train: str = \"c:/Users/finia/OneDrive - SBL/PrA/PCA of hand signs/Processed Images/Train/\"\n",
    "image_dir_test: str = \"c:/Users/finia/OneDrive - SBL/PrA/PCA of hand signs/Processed Images/Test\"\n",
    "n_test_images: int = 50\n",
    "train, names_train = load_images(image_dir_train)\n",
    "test, names_test = load_images(image_dir_test)\n",
    "#train, test, names_train, names_test = get_train_test_dataset(images, image_names, n_test_images)\n",
    "k: int = 5\n",
    "dimensions: np.ndarray = train.shape[1]"
   ]
  },
  {
   "cell_type": "code",
   "execution_count": null,
   "metadata": {},
   "outputs": [],
   "source": [
    "meanface: np.ndarray = np.mean(train, axis=0)\n",
    "A: np.ndarray = train - meanface\n",
    "eigenfaces, s, VT = np.linalg.svd(A.transpose(), full_matrices=False)\n",
    "eigenfaces: np.ndarray = eigenfaces.transpose()\n",
    "coeff_mat: np.ndarray = coeff_matrix(meanface, eigenfaces, train)"
   ]
  },
  {
   "cell_type": "code",
   "execution_count": null,
   "metadata": {},
   "outputs": [
    {
     "name": "stdout",
     "output_type": "stream",
     "text": [
      "2.84375\n",
      "[(19602337232.73344, 'thumbs_up_49.jpg'), (19967675820.473194, 'pistol_46.jpg'), (20015205890.832, 'easy_52.jpg'), (20049949967.08636, 'pistol_51.jpg'), (20089328123.978493, 'pistol_49.jpg'), (20413941931.698296, 'easy_33.jpg'), (20417921076.710064, 'pistol_48.jpg'), (20443741178.150227, 'thumbs_up_53.jpg'), (20470932782.513466, 'pistol_53.jpg'), (20490895764.11545, 'easy_25.jpg'), (20499052184.415405, 'easy_32.jpg'), (20535007156.28178, 'pistol_50.jpg'), (20549845550.48775, 'thumbs_up_51.jpg'), (20603998144.69826, 'pistol_26.jpg'), (20646856044.683372, 'easy_31.jpg'), (20680857772.433777, 'pistol_21.jpg'), (20684516876.836975, 'pistol_52.jpg'), (20705775729.630905, 'pistol_15.jpg'), (20713050902.87245, 'pistol_45.jpg'), (20726188079.8666, 'pistol_29.jpg'), (20754859820.808094, 'metal_29.jpg'), (20760526997.143196, 'pistol_30.jpg'), (20781875312.310204, 'metal_27.jpg'), (20793546532.973766, 'pistol_54.jpg'), (20794401984.986923, 'thumbs_up_47.jpg'), (20839231718.355442, 'easy_54.jpg'), (20849455311.12771, 'easy_34.jpg'), (20880038779.223328, 'easy_29.jpg'), (20885943980.233097, 'pistol_28.jpg'), (20891531207.648426, 'easy_46.jpg'), (20902948679.05643, 'thumbs_up_45.jpg'), (20912186245.309055, 'thumbs_up_50.jpg'), (20946664763.642006, 'pistol_17.jpg'), (20954886002.40061, 'thumbs_up_48.jpg'), (20954924799.7072, 'easy_30.jpg'), (20962508371.354263, 'easy_48.jpg'), (20970877187.11184, 'easy_26.jpg'), (20976982762.218357, 'metal_34.jpg'), (20984502699.908092, 'thumbs_up_52.jpg'), (21009977212.03263, 'metal_25.jpg'), (21027464092.22365, 'easy_28.jpg'), (21046833646.175247, 'pistol_32.jpg'), (21054109251.51394, 'easy_47.jpg'), (21058008911.291985, 'thumbs_up_46.jpg'), (21063211448.41619, 'easy_50.jpg'), (21063753786.873314, 'pistol_47.jpg'), (21074925125.694477, 'easy_45.jpg'), (21084950774.80917, 'thumbs_up_54.jpg'), (21115160680.939156, 'pistol_27.jpg'), (21117632185.81294, 'pistol_16.jpg'), (21142321109.15213, 'pistol_34.jpg'), (21145161935.159985, 'pistol_24.jpg'), (21216801306.095688, 'easy_27.jpg'), (21232988496.435535, 'pistol_18.jpg'), (21273470416.411945, 'easy_17.jpg'), (21286282641.86029, 'pistol_23.jpg'), (21304374653.250496, 'thumbs_up_32.jpg'), (21304668669.55674, 'easy_51.jpg'), (21311473954.72517, 'thumbs_up_09.jpg'), (21317015757.281937, 'metal_26.jpg'), (21319313705.623283, 'pistol_22.jpg'), (21365979393.43992, 'metal_28.jpg'), (21368373462.54094, 'pistol_31.jpg'), (21375204553.914833, 'metal_50.jpg'), (21382976004.91513, 'easy_16.jpg'), (21387089621.933006, 'metal_31.jpg'), (21390335527.74798, 'peace_16.jpg'), (21390480346.864075, 'peace_15.jpg'), (21395423788.082565, 'metal_30.jpg'), (21397386788.252438, 'easy_53.jpg'), (21414007137.256374, 'thumbs_up_13.jpg'), (21414200183.440453, 'pistol_33.jpg'), (21422038097.938114, 'thumbs_up_07.jpg'), (21423927443.975445, 'metal_47.jpg'), (21457564400.466854, 'pistol_20.jpg'), (21461290475.727818, 'peace_17.jpg'), (21461394072.32194, 'pistol_25.jpg'), (21471095875.4982, 'thumbs_up_08.jpg'), (21484530734.73313, 'metal_00.jpg'), (21490317869.651653, 'thumbs_up_11.jpg'), (21491554772.058727, 'metal_32.jpg'), (21502905713.66248, 'easy_18.jpg'), (21521828669.765945, 'easy_49.jpg'), (21530047575.241943, 'thumbs_up_28.jpg'), (21536014997.109673, 'easy_00.jpg'), (21540905195.416813, 'thumbs_up_05.jpg'), (21552300808.87175, 'easy_15.jpg'), (21576574656.577045, 'pistol_19.jpg'), (21580990286.43425, 'thumbs_up_10.jpg'), (21581598910.287216, 'thumbs_up_12.jpg'), (21586935752.10517, 'peace_20.jpg'), (21590802321.777157, 'metal_33.jpg'), (21592534935.26295, 'thumbs_up_14.jpg'), (21608903937.707718, 'metal_52.jpg'), (21622788368.278957, 'thumbs_up_01.jpg'), (21643489607.78305, 'easy_20.jpg'), (21650361601.210354, 'thumbs_up_26.jpg'), (21666493517.93259, 'thumbs_up_33.jpg'), (21671240352.64852, 'easy_19.jpg'), (21671465645.867493, 'thumbs_up_02.jpg'), (21673629740.92768, 'peace_21.jpg'), (21675531825.848045, 'metal_49.jpg'), (21690928484.01476, 'thumbs_up_30.jpg'), (21691728859.021694, 'thumbs_up_27.jpg'), (21693134776.303196, 'thumbs_up_06.jpg'), (21701812236.601364, 'metal_16.jpg'), (21704173297.42968, 'thumbs_up_25.jpg'), (21720934986.340034, 'peace_22.jpg'), (21727074106.667618, 'easy_06.jpg'), (21738488710.061718, 'metal_02.jpg'), (21742547906.3555, 'peace_18.jpg'), (21750448154.513016, 'metal_45.jpg'), (21769076428.785957, 'easy_03.jpg'), (21769360604.488914, 'pistol_04.jpg'), (21773460362.447006, 'peace_25.jpg'), (21775211695.33791, 'easy_21.jpg'), (21775857685.35287, 'thumbs_up_00.jpg'), (21777953499.024773, 'peace_26.jpg'), (21790691082.40024, 'thumbs_up_29.jpg'), (21791794161.47849, 'easy_04.jpg'), (21803544834.04271, 'thumbs_up_34.jpg'), (21804546178.135227, 'metal_15.jpg'), (21806858468.13029, 'peace_27.jpg'), (21806896272.58416, 'easy_14.jpg'), (21808541990.797485, 'metal_53.jpg'), (21819994478.33605, 'metal_01.jpg'), (21822172212.68916, 'thumbs_up_03.jpg'), (21822247586.07848, 'peace_28.jpg'), (21824022501.40127, 'peace_29.jpg'), (21829072765.221203, 'peace_23.jpg'), (21848052412.8372, 'metal_18.jpg'), (21851782290.24159, 'easy_12.jpg'), (21855143666.078033, 'peace_37.jpg'), (21855165436.081593, 'thumbs_up_04.jpg'), (21862090815.473568, 'easy_23.jpg'), (21873148853.271946, 'easy_02.jpg'), (21874090926.990078, 'thumbs_up_15.jpg'), (21875915114.28, 'easy_11.jpg'), (21877276951.25426, 'peace_45.jpg'), (21880529295.20505, 'pistol_01.jpg'), (21882022966.47533, 'metal_54.jpg'), (21882585390.623344, 'peace_49.jpg'), (21887684829.373997, 'peace_31.jpg'), (21888180976.52743, 'peace_14.jpg'), (21890230124.77435, 'easy_09.jpg'), (21892718609.518806, 'peace_50.jpg'), (21898218776.90437, 'metal_48.jpg'), (21902211377.435654, 'easy_22.jpg'), (21904437377.155163, 'peace_36.jpg'), (21905478430.37845, 'metal_06.jpg'), (21905692396.528816, 'metal_17.jpg'), (21918711339.14496, 'thumbs_up_31.jpg'), (21919930866.25319, 'easy_13.jpg'), (21941552067.37069, 'metal_46.jpg'), (21947021414.574142, 'peace_35.jpg'), (21959809361.8967, 'metal_19.jpg'), (21959861820.849045, 'easy_01.jpg'), (21972098156.826054, 'easy_36.jpg'), (21974403403.909477, 'easy_08.jpg'), (21974569487.684353, 'pistol_02.jpg'), (21974959783.121662, 'easy_24.jpg'), (21976682258.809666, 'easy_05.jpg'), (21980233448.115944, 'easy_10.jpg'), (21995180949.935703, 'peace_24.jpg'), (21995588257.331673, 'pistol_10.jpg'), (21995896016.99075, 'easy_07.jpg'), (22008788208.743103, 'metal_51.jpg'), (22016489413.59674, 'metal_05.jpg'), (22019261575.871822, 'metal_10.jpg'), (22020550707.46523, 'metal_03.jpg'), (22041651498.923737, 'easy_40.jpg'), (22046843973.17863, 'easy_42.jpg'), (22053114037.77053, 'peace_41.jpg'), (22056986596.704296, 'thumbs_up_17.jpg'), (22061718732.033234, 'metal_08.jpg'), (22061759660.738815, 'peace_32.jpg'), (22066341754.648937, 'pistol_14.jpg'), (22071121483.0995, 'metal_13.jpg'), (22077209326.91068, 'pistol_12.jpg'), (22079635497.805626, 'metal_09.jpg'), (22098122230.149883, 'metal_04.jpg'), (22105560209.461964, 'peace_47.jpg'), (22112679554.79132, 'pistol_11.jpg'), (22112713523.99829, 'peace_30.jpg'), (22117381509.704292, 'pistol_05.jpg'), (22121639010.213467, 'thumbs_up_16.jpg'), (22125262538.78002, 'pistol_38.jpg'), (22126136798.559628, 'peace_46.jpg'), (22147717943.463135, 'peace_19.jpg'), (22148550284.842335, 'metal_14.jpg'), (22148563943.821407, 'metal_07.jpg'), (22160694070.236683, 'peace_42.jpg'), (22169937126.85791, 'pistol_03.jpg'), (22175160032.498707, 'pistol_13.jpg'), (22187064470.29657, 'peace_38.jpg'), (22190098572.408016, 'easy_41.jpg'), (22192132089.144512, 'peace_33.jpg'), (22194210385.608826, 'pistol_07.jpg'), (22198149532.737644, 'pistol_06.jpg'), (22211629569.792114, 'peace_01.jpg'), (22213641118.524178, 'metal_21.jpg'), (22214278006.160576, 'peace_44.jpg'), (22216844564.266544, 'peace_48.jpg'), (22220519861.394882, 'metal_11.jpg'), (22223146112.423626, 'peace_51.jpg'), (22225194855.361584, 'metal_20.jpg'), (22225551552.652267, 'thumbs_up_23.jpg'), (22244696183.410618, 'peace_34.jpg'), (22245064907.10683, 'metal_12.jpg'), (22246743129.64812, 'peace_40.jpg'), (22248596848.182304, 'pistol_08.jpg'), (22250280209.377384, 'thumbs_up_19.jpg'), (22252685345.78964, 'easy_35.jpg'), (22260832764.408703, 'thumbs_up_18.jpg'), (22261677022.91993, 'peace_43.jpg'), (22265036923.40981, 'thumbs_up_21.jpg'), (22276613564.307796, 'pistol_43.jpg'), (22283626896.62189, 'peace_13.jpg'), (22293681971.947018, 'pistol_00.jpg'), (22298537872.339306, 'peace_12.jpg'), (22302263725.593052, 'thumbs_up_24.jpg'), (22306869335.110817, 'thumbs_up_20.jpg'), (22310602638.647877, 'pistol_44.jpg'), (22314268996.311543, 'pistol_36.jpg'), (22326585704.91286, 'easy_38.jpg'), (22331875801.365284, 'peace_11.jpg'), (22334934807.89421, 'peace_05.jpg'), (22337579131.608227, 'thumbs_up_22.jpg'), (22340674500.844765, 'easy_39.jpg'), (22347911827.28132, 'easy_37.jpg'), (22348448257.085037, 'metal_23.jpg'), (22355092152.5287, 'peace_09.jpg'), (22363645431.537285, 'peace_07.jpg'), (22365610186.555458, 'thumbs_up_40.jpg'), (22369357142.179665, 'pistol_41.jpg'), (22381917456.901215, 'pistol_42.jpg'), (22382943656.658073, 'pistol_40.jpg'), (22386533191.908478, 'pistol_37.jpg'), (22388516049.04636, 'easy_43.jpg'), (22389597319.32367, 'easy_44.jpg'), (22390871514.019093, 'peace_06.jpg'), (22394134504.150272, 'peace_03.jpg'), (22396857203.560875, 'metal_24.jpg'), (22404681481.43068, 'peace_53.jpg'), (22416336673.569878, 'thumbs_up_38.jpg'), (22417008102.301746, 'pistol_09.jpg'), (22424780284.147182, 'peace_08.jpg'), (22446045770.737606, 'peace_54.jpg'), (22452175427.66722, 'metal_22.jpg'), (22457837830.001217, 'peace_10.jpg'), (22457946100.68332, 'peace_04.jpg'), (22458267828.158947, 'pistol_39.jpg'), (22462195988.05172, 'peace_00.jpg'), (22463338258.057808, 'peace_39.jpg'), (22468750272.075924, 'pistol_35.jpg'), (22472246426.315712, 'thumbs_up_42.jpg'), (22472927180.509697, 'peace_02.jpg'), (22512417029.97708, 'thumbs_up_41.jpg'), (22576798486.45655, 'thumbs_up_39.jpg'), (22606948979.428932, 'thumbs_up_37.jpg'), (22615239935.272896, 'peace_52.jpg'), (22669214766.53905, 'thumbs_up_44.jpg'), (22682384015.223778, 'thumbs_up_35.jpg'), (22714399919.528275, 'thumbs_up_43.jpg'), (22714462604.430084, 'thumbs_up_36.jpg'), (22731793640.231503, 'metal_40.jpg'), (22737848750.709538, 'metal_38.jpg'), (22752159478.48177, 'metal_44.jpg'), (22762105595.8756, 'metal_35.jpg'), (22762628975.60099, 'metal_42.jpg'), (22772997831.192078, 'metal_39.jpg'), (22827117070.201824, 'metal_41.jpg'), (22833946046.04076, 'metal_37.jpg'), (22843019463.608807, 'metal_43.jpg'), (22858557548.397034, 'metal_36.jpg')]\n"
     ]
    }
   ],
   "source": [
    "distances = np.array(outlying_distances(train))\n",
    "\n",
    "new_names = np.array(names_train)\n",
    "sorted_indicies = np.argsort(distances)\n",
    "distances = distances[sorted_indicies]\n",
    "new_names = new_names[sorted_indicies]\n",
    "\n",
    "avg = sum(distances) / len(distances)\n",
    "print(round(statistics.pstdev(distances) / statistics.mean(distances) * 100, 5))\n",
    "print(list(zip(distances, new_names)))\n",
    "\n",
    "#Lower 1000\n",
    "#Upper 5000"
   ]
  },
  {
   "cell_type": "code",
   "execution_count": 24,
   "metadata": {},
   "outputs": [
    {
     "name": "stdout",
     "output_type": "stream",
     "text": [
      "54\n",
      "89\n",
      "55\n",
      "20\n",
      "57\n"
     ]
    }
   ],
   "source": [
    "points: np.ndarray = train\n",
    "\n",
    "last_centroids: np.ndarray = np.zeros((k, dimensions))\n",
    "classification: list = []\n",
    "centroids = init_centroids(k, points)\n",
    "last_centroids = np.zeros_like(centroids)\n",
    "i = 0\n",
    "\n",
    "while is_not_converged(last_centroids, centroids):\n",
    "    i += 1\n",
    "    last_centroids = centroids.copy()\n",
    "    classification, centroids = run_iteration(points, centroids, k)\n",
    "\n",
    "#save_image(centroids[0], \"test\")\n",
    "cluster_n = cluster_names(classification, names_train,k)\n",
    "for clster in cluster_n:\n",
    "    print(len(clster))\n"
   ]
  }
 ],
 "metadata": {
  "kernelspec": {
   "display_name": "Python 3",
   "language": "python",
   "name": "python3"
  },
  "language_info": {
   "codemirror_mode": {
    "name": "ipython",
    "version": 3
   },
   "file_extension": ".py",
   "mimetype": "text/x-python",
   "name": "python",
   "nbconvert_exporter": "python",
   "pygments_lexer": "ipython3",
   "version": "3.10.11"
  }
 },
 "nbformat": 4,
 "nbformat_minor": 2
}
