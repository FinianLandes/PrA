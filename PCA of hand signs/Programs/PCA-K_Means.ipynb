{
 "cells": [
  {
   "cell_type": "markdown",
   "metadata": {},
   "source": [
    "# PCA Algorithm to distinguish different hand signs extended with K-Means\n",
    "By Mailin Brandt and Finian landes"
   ]
  },
  {
   "cell_type": "code",
   "execution_count": 66,
   "metadata": {},
   "outputs": [],
   "source": [
    "### Imports\n",
    "import numpy as np\n",
    "from PIL import Image\n",
    "import os\n",
    "import matplotlib.pyplot as plt\n",
    "from sklearn.cluster import KMeans"
   ]
  },
  {
   "cell_type": "code",
   "execution_count": 48,
   "metadata": {},
   "outputs": [],
   "source": [
    "#Loads Images from dir, size has to be provided (image in format size x size)\n",
    "#returns images as vectors and image names as list\n",
    "def load_images(dir: str, size: int = 256, grayscale: bool = True) -> np.ndarray:\n",
    "    image_names: list = sorted(os.listdir(dir))\n",
    "    n: int = len(image_names)\n",
    "    images: np.ndarray = np.zeros([n, size ** 2])\n",
    "    for i, name in enumerate(image_names):\n",
    "        img: Image = Image.open(dir + \"//\"+ name)\n",
    "        images[i] = img.getdata(0)\n",
    "    return images, np.array(image_names)\n",
    "\n",
    "#Generates a random train and test set with n_test test items\n",
    "#returns train and test images and train and test names\n",
    "def get_train_test_dataset(images: np.ndarray, image_names: list[str], n_test: int) -> tuple[np.ndarray, np.ndarray, list, list]:\n",
    "    indices: list = np.random.choice(len(images), n_test, replace = False)\n",
    "    test: np.ndarray = images[indices]\n",
    "    names_test: list[str] = image_names[indices]\n",
    "    train: np.ndarray = np.delete(images, indices, axis = 0)\n",
    "    names_train: list[str] = np.delete(image_names, indices)\n",
    "    return train, test, names_train, names_test\n",
    "\n",
    "#Using the coeff_matrix, the eigenfaces and the meanface returns the index of the image which lies closest to point\n",
    "#Returns index of closest image\n",
    "def closest_neighbour(point: np.ndarray, meanface: np.ndarray , eigenfaces: np.ndarray, coeff_mat: np.ndarray) -> int:\n",
    "    c1: np.ndarray = np.matmul(eigenfaces, point - meanface)\n",
    "    distances: np.ndarray = np.sum((c1 - coeff_mat.T)**2, axis=1)\n",
    "    return np.argmin(distances)\n",
    "\n",
    "#Creates a matrix from the meanface, the eigenfaces and the passed points, which is used to increase efficiency of the PCA-Algorithm\n",
    "#Returns a matrix in form n x n where n is the number of images\n",
    "def coeff_matrix(meanface: np.ndarray, eigenfaces: np.ndarray, points: np.ndarray) -> np.ndarray:\n",
    "    return np.matmul(eigenfaces, (points - meanface).T)\n",
    "\n",
    "#Saves an image with a given filename stable for image in any format \n",
    "#Returns None\n",
    "def save_image(picture: np.ndarray, filename: str, location: str = \"c:/Users/finia/OneDrive - SBL/PrA/PCA of hand signs/Processed Images/Eigenfaces\", size: int = 256) -> None:\n",
    "    min_val: float = np.min(picture)\n",
    "    picture = picture - min_val\n",
    "    picture = picture / np.max(picture)\n",
    "    picture = (255 * picture).astype(np.uint8)\n",
    "    n_picture = np.reshape(picture, (size, size)).astype(dtype = np.uint8)\n",
    "    plt.imshow(n_picture, cmap = \"gray\")\n",
    "    plt.show()\n",
    "    im = Image.fromarray(n_picture, mode=\"L\")\n",
    "    im.save(location + \"/\" + filename + \".jpg\")\n",
    "\n",
    "#Initializes centroids for K-Means by choosing k random points\n",
    "#Returns k centroids\n",
    "def init_centroids(k: int, points: np.ndarray) -> np.ndarray:\n",
    "    centroids: np.ndarray = points[np.random.choice(len(points), k, replace = False)]\n",
    "    return centroids\n",
    "\n",
    "#Run K-means\n",
    "#Returns new centroids and the classification of the points\n",
    "def run_iteration(points: np.ndarray, centroids: np.ndarray, k: int) -> tuple[np.ndarray, list]:\n",
    "    classification: list = []\n",
    "    clusters: list[np.ndarray] = [[] for _ in range(k)]\n",
    "    new_centroids: np.ndarray = np.zeros((k, points.shape[1]))\n",
    "\n",
    "    for point in points:\n",
    "        distances: list[np.ndarray] = [np.linalg.norm(point - centroid) for centroid in centroids]\n",
    "        classification.append(np.argmin(distances))\n",
    "        clusters[classification[-1]].append(point)\n",
    "    for i in range(len(centroids)):\n",
    "        if len(clusters[i]) == 0:\n",
    "            new_centroids[i] = points[np.random.randint(0, points.shape[0])]\n",
    "        else:\n",
    "            new_centroids[i] = np.mean(clusters[i], axis = 0)\n",
    "    return classification, new_centroids\n",
    "\n",
    "#Checks whether k-means is converged by comparing the distances between the old and the new centroids\n",
    "#Returns True when K-means is NOT converged\n",
    "def is_not_converged(last_centroids: np.ndarray, current_centroids: np.ndarray, e: float = 1e-20) -> bool:\n",
    "    dist: float = 0\n",
    "    for  i in range(len(last_centroids)):\n",
    "        dist += np.sqrt(np.sum((last_centroids[i] - current_centroids[i]) ** 2))\n",
    "    return dist > e\n",
    "\n",
    "#Clusters the names of the images using the classification of the points\n",
    "#Returns list with the names of images in each cluster, where each cluster is depicted by a sublist\n",
    "def cluster_names(classification: list, names: list, k: int) -> list:\n",
    "    classified_names: list = [[] for _ in range(k)]\n",
    "    for i, name in enumerate(names):\n",
    "        classified_names[classification[i]].append(name)\n",
    "    return classified_names\n",
    "\n",
    "#Computes coefficients from a point a mean and a point array\n",
    "#Returns those coefficients as np.array\n",
    "def compute_coefficients(point: np.ndarray, points: np.ndarray, mean: np.ndarray) -> np.ndarray:\n",
    "    return np.matmul(points, point - mean)\n",
    "\n",
    "#Calculates the distance between a point and a mean by additionally using a points array to make a transformation in space to make the eclidean distance more meaningful\n",
    "#Returns the distance as float\n",
    "def distance(point: np.ndarray, q: np.ndarray, mean: np.ndarray, points: np.ndarray) -> float:\n",
    "    c1: np.ndarray = compute_coefficients(point, points, mean)\n",
    "    c2: np.ndarray = compute_coefficients(q, points, mean)\n",
    "    return np.sqrt(np.sum((c1 - c2)**2))\n",
    "\n",
    "#Calculates the distance between each point and a given center point \n",
    "#Returns the distances of each point to the center point\n",
    "def outlying_distances(center: np.ndarray, points: np.ndarray) -> list:\n",
    "    dist: list = [distance(point, np.zeros_like(point), center, points) for point in points]\n",
    "    return dist\n",
    "\n",
    "#Sorts points by taking their distance to a given center and then ordering them in ascending order \n",
    "#Returns the Distances and the sorted points aswell as the sorted names\n",
    "def sort_points_names_by_dist(center: np.ndarray, points: np.ndarray, names: list) -> tuple[np.ndarray, np.ndarray, list]:\n",
    "    distances: list = np.array(outlying_distances(center, points))\n",
    "    new_names: np.ndarray = np.array(names)\n",
    "    sorted_indicies: list = np.argsort(distances)\n",
    "    distances: list = list(distances[sorted_indicies])\n",
    "    new_names: list = list(new_names[sorted_indicies])\n",
    "    points: np.ndarray = points[sorted_indicies]\n",
    "    return distances, points, new_names\n",
    "\n",
    "#Creats a count of how often each kind appears in each cluster\n",
    "#Returns a list with dicts containig the count of items and also a score where 100% means that all clusters only contain one kind and 0% means that all kinds are distributed evenly\n",
    "def k_means_score(cluster_names: list) -> tuple[list, float]:\n",
    "    cluster_names: list = [[name[:-7] for name in sublist] for sublist in cluster_names]\n",
    "    all_names: list = [item for sublist in cluster_names for item in sublist]\n",
    "    without_duplicates: list = list(dict.fromkeys(all_names))\n",
    "    result: list = []\n",
    "    for sublist in cluster_names:\n",
    "        count_dict: dict = {name: sublist.count(name) for name in without_duplicates}\n",
    "        result.append(count_dict)\n",
    "    total_items: int = len(all_names)\n",
    "    max_counts: list = [max(cluster.values()) for cluster in result]\n",
    "    actual_score: int = sum(max_counts)\n",
    "    normalized_score: float = round(actual_score / total_items, 2)\n",
    "    return result, normalized_score\n"
   ]
  },
  {
   "cell_type": "code",
   "execution_count": 69,
   "metadata": {},
   "outputs": [],
   "source": [
    "image_dir_train: str = \"c:/Users/finia/OneDrive - SBL/PrA/PCA of hand signs/Processed Images/Train/\"\n",
    "image_dir_test: str = \"c:/Users/finia/OneDrive - SBL/PrA/PCA of hand signs/Processed Images/Test\"\n",
    "n_test_images: int = 50\n",
    "train, names_train = load_images(image_dir_train)\n",
    "test, names_test = load_images(image_dir_test)\n",
    "#train, test, names_train, names_test = get_train_test_dataset(images, image_names, n_test_images)\n",
    "k: int = 10\n",
    "train = (train - np.mean(train)) / np.std(train)\n",
    "dimensions: np.ndarray = train.shape[1]"
   ]
  },
  {
   "cell_type": "code",
   "execution_count": 64,
   "metadata": {},
   "outputs": [],
   "source": [
    "meanface: np.ndarray = np.mean(train, axis=0)\n",
    "A: np.ndarray = train - meanface\n",
    "eigenfaces, s, VT = np.linalg.svd(A.transpose(), full_matrices=False)\n",
    "eigenfaces: np.ndarray = eigenfaces.transpose()\n",
    "coeff_mat: np.ndarray = coeff_matrix(meanface, eigenfaces, train)"
   ]
  },
  {
   "cell_type": "code",
   "execution_count": 23,
   "metadata": {},
   "outputs": [
    {
     "name": "stdout",
     "output_type": "stream",
     "text": [
      "([19602337232.73344, 19967675820.473194, 20015205890.832, 20049949967.086365, 20089328123.978493, 20413941931.698296, 20417921076.710064, 20443741178.150227, 20470932782.513466, 20490895764.11545, 20499052184.415405, 20535007156.28178, 20549845550.48775, 20603998144.69826, 20646856044.683372, 20680857772.433777, 20684516876.836975, 20705775729.630905, 20713050902.87245, 20726188079.8666, 20754859820.808094, 20760526997.143196, 20781875312.310204, 20793546532.973766, 20794401984.986923, 20839231718.355442, 20849455311.127705, 20880038779.223328, 20885943980.233097, 20891531207.648422, 20902948679.056435, 20912186245.309055, 20946664763.642006, 20954886002.40061, 20954924799.7072, 20962508371.354263, 20970877187.11184, 20976982762.218357, 20984502699.90809, 21009977212.03263, 21027464092.22365, 21046833646.175247, 21054109251.51394, 21058008911.291985, 21063211448.41619, 21063753786.873314, 21074925125.694473, 21084950774.809174, 21115160680.939156, 21117632185.81294, 21142321109.15213, 21145161935.15998, 21216801306.095688, 21232988496.435535, 21273470416.411945, 21286282641.86029, 21304374653.250496, 21304668669.55674, 21311473954.72517, 21317015757.281937, 21319313705.623283, 21365979393.43992, 21368373462.54094, 21375204553.914837, 21382976004.91513, 21387089621.933006, 21390335527.74798, 21390480346.864075, 21395423788.08256, 21397386788.252438, 21414007137.25637, 21414200183.440453, 21422038097.938114, 21423927443.975445, 21457564400.466854, 21461290475.727818, 21461394072.321938, 21471095875.4982, 21484530734.73313, 21490317869.65165, 21491554772.058727, 21502905713.66248, 21521828669.765945, 21530047575.24194, 21536014997.109673, 21540905195.416813, 21552300808.87175, 21576574656.577045, 21580990286.43425, 21581598910.287212, 21586935752.10517, 21590802321.777153, 21592534935.26295, 21608903937.707718, 21622788368.278957, 21643489607.78305, 21650361601.210354, 21666493517.93259, 21671240352.648518, 21671465645.867493, 21673629740.92768, 21675531825.848045, 21690928484.01476, 21691728859.021694, 21693134776.303196, 21701812236.601364, 21704173297.42968, 21720934986.340034, 21727074106.667618, 21738488710.061718, 21742547906.3555, 21750448154.513016, 21769076428.785957, 21769360604.488914, 21773460362.447006, 21775211695.33791, 21775857685.35287, 21777953499.02477, 21790691082.40024, 21791794161.478485, 21803544834.04271, 21804546178.135227, 21806858468.130295, 21806896272.58416, 21808541990.797485, 21819994478.33605, 21822172212.68916, 21822247586.07848, 21824022501.40127, 21829072765.221203, 21848052412.8372, 21851782290.24159, 21855143666.078033, 21855165436.081593, 21862090815.473568, 21873148853.271946, 21874090926.990074, 21875915114.28, 21877276951.254257, 21880529295.20505, 21882022966.47533, 21882585390.623344, 21887684829.373997, 21888180976.52743, 21890230124.77435, 21892718609.518806, 21898218776.90437, 21902211377.435654, 21904437377.155163, 21905478430.37845, 21905692396.528816, 21918711339.14496, 21919930866.25319, 21941552067.37069, 21947021414.574142, 21959809361.8967, 21959861820.849045, 21972098156.82605, 21974403403.909477, 21974569487.684353, 21974959783.121662, 21976682258.809666, 21980233448.115944, 21995180949.935703, 21995588257.33167, 21995896016.99075, 22008788208.743103, 22016489413.596745, 22019261575.871822, 22020550707.46523, 22041651498.923737, 22046843973.17863, 22053114037.77053, 22056986596.704296, 22061718732.033234, 22061759660.738815, 22066341754.648937, 22071121483.0995, 22077209326.91068, 22079635497.805626, 22098122230.14988, 22105560209.46196, 22112679554.79132, 22112713523.99829, 22117381509.704292, 22121639010.213467, 22125262538.78002, 22126136798.559628, 22147717943.463135, 22148550284.842335, 22148563943.821407, 22160694070.236683, 22169937126.85791, 22175160032.498707, 22187064470.29657, 22190098572.408016, 22192132089.144512, 22194210385.608826, 22198149532.737644, 22211629569.792114, 22213641118.524178, 22214278006.160576, 22216844564.266544, 22220519861.394882, 22223146112.423626, 22225194855.361584, 22225551552.652267, 22244696183.410618, 22245064907.10683, 22246743129.64812, 22248596848.182304, 22250280209.377384, 22252685345.78964, 22260832764.408703, 22261677022.91993, 22265036923.40981, 22276613564.307796, 22283626896.62189, 22293681971.947018, 22298537872.339306, 22302263725.593052, 22306869335.110813, 22310602638.647873, 22314268996.311546, 22326585704.912857, 22331875801.365288, 22334934807.89421, 22337579131.608227, 22340674500.84476, 22347911827.28132, 22348448257.085037, 22355092152.5287, 22363645431.537285, 22365610186.555458, 22369357142.179665, 22381917456.901215, 22382943656.658073, 22386533191.908478, 22388516049.046364, 22389597319.32367, 22390871514.01909, 22394134504.15027, 22396857203.560875, 22404681481.43068, 22416336673.56988, 22417008102.301746, 22424780284.147182, 22446045770.737606, 22452175427.66722, 22457837830.001217, 22457946100.68332, 22458267828.158943, 22462195988.05172, 22463338258.057808, 22468750272.075924, 22472246426.315712, 22472927180.509697, 22512417029.97708, 22576798486.45655, 22606948979.428932, 22615239935.272896, 22669214766.539047, 22682384015.223778, 22714399919.528275, 22714462604.430084, 22731793640.231503, 22737848750.709534, 22752159478.48177, 22762105595.8756, 22762628975.60099, 22772997831.19208, 22827117070.201824, 22833946046.04076, 22843019463.608807, 22858557548.397034], array([[137., 137., 137., ..., 151., 147., 141.],\n",
      "       [127., 127., 127., ...,  62.,  90., 140.],\n",
      "       [131., 131., 131., ...,  84.,  85.,  86.],\n",
      "       ...,\n",
      "       [155., 156., 157., ..., 190., 189., 189.],\n",
      "       [156., 157., 159., ..., 188., 188., 188.],\n",
      "       [160., 161., 163., ..., 191., 191., 191.]]), ['thumbs_up_49.jpg', 'pistol_46.jpg', 'easy_52.jpg', 'pistol_51.jpg', 'pistol_49.jpg', 'easy_33.jpg', 'pistol_48.jpg', 'thumbs_up_53.jpg', 'pistol_53.jpg', 'easy_25.jpg', 'easy_32.jpg', 'pistol_50.jpg', 'thumbs_up_51.jpg', 'pistol_26.jpg', 'easy_31.jpg', 'pistol_21.jpg', 'pistol_52.jpg', 'pistol_15.jpg', 'pistol_45.jpg', 'pistol_29.jpg', 'metal_29.jpg', 'pistol_30.jpg', 'metal_27.jpg', 'pistol_54.jpg', 'thumbs_up_47.jpg', 'easy_54.jpg', 'easy_34.jpg', 'easy_29.jpg', 'pistol_28.jpg', 'easy_46.jpg', 'thumbs_up_45.jpg', 'thumbs_up_50.jpg', 'pistol_17.jpg', 'thumbs_up_48.jpg', 'easy_30.jpg', 'easy_48.jpg', 'easy_26.jpg', 'metal_34.jpg', 'thumbs_up_52.jpg', 'metal_25.jpg', 'easy_28.jpg', 'pistol_32.jpg', 'easy_47.jpg', 'thumbs_up_46.jpg', 'easy_50.jpg', 'pistol_47.jpg', 'easy_45.jpg', 'thumbs_up_54.jpg', 'pistol_27.jpg', 'pistol_16.jpg', 'pistol_34.jpg', 'pistol_24.jpg', 'easy_27.jpg', 'pistol_18.jpg', 'easy_17.jpg', 'pistol_23.jpg', 'thumbs_up_32.jpg', 'easy_51.jpg', 'thumbs_up_09.jpg', 'metal_26.jpg', 'pistol_22.jpg', 'metal_28.jpg', 'pistol_31.jpg', 'metal_50.jpg', 'easy_16.jpg', 'metal_31.jpg', 'peace_16.jpg', 'peace_15.jpg', 'metal_30.jpg', 'easy_53.jpg', 'thumbs_up_13.jpg', 'pistol_33.jpg', 'thumbs_up_07.jpg', 'metal_47.jpg', 'pistol_20.jpg', 'peace_17.jpg', 'pistol_25.jpg', 'thumbs_up_08.jpg', 'metal_00.jpg', 'thumbs_up_11.jpg', 'metal_32.jpg', 'easy_18.jpg', 'easy_49.jpg', 'thumbs_up_28.jpg', 'easy_00.jpg', 'thumbs_up_05.jpg', 'easy_15.jpg', 'pistol_19.jpg', 'thumbs_up_10.jpg', 'thumbs_up_12.jpg', 'peace_20.jpg', 'metal_33.jpg', 'thumbs_up_14.jpg', 'metal_52.jpg', 'thumbs_up_01.jpg', 'easy_20.jpg', 'thumbs_up_26.jpg', 'thumbs_up_33.jpg', 'easy_19.jpg', 'thumbs_up_02.jpg', 'peace_21.jpg', 'metal_49.jpg', 'thumbs_up_30.jpg', 'thumbs_up_27.jpg', 'thumbs_up_06.jpg', 'metal_16.jpg', 'thumbs_up_25.jpg', 'peace_22.jpg', 'easy_06.jpg', 'metal_02.jpg', 'peace_18.jpg', 'metal_45.jpg', 'easy_03.jpg', 'pistol_04.jpg', 'peace_25.jpg', 'easy_21.jpg', 'thumbs_up_00.jpg', 'peace_26.jpg', 'thumbs_up_29.jpg', 'easy_04.jpg', 'thumbs_up_34.jpg', 'metal_15.jpg', 'peace_27.jpg', 'easy_14.jpg', 'metal_53.jpg', 'metal_01.jpg', 'thumbs_up_03.jpg', 'peace_28.jpg', 'peace_29.jpg', 'peace_23.jpg', 'metal_18.jpg', 'easy_12.jpg', 'peace_37.jpg', 'thumbs_up_04.jpg', 'easy_23.jpg', 'easy_02.jpg', 'thumbs_up_15.jpg', 'easy_11.jpg', 'peace_45.jpg', 'pistol_01.jpg', 'metal_54.jpg', 'peace_49.jpg', 'peace_31.jpg', 'peace_14.jpg', 'easy_09.jpg', 'peace_50.jpg', 'metal_48.jpg', 'easy_22.jpg', 'peace_36.jpg', 'metal_06.jpg', 'metal_17.jpg', 'thumbs_up_31.jpg', 'easy_13.jpg', 'metal_46.jpg', 'peace_35.jpg', 'metal_19.jpg', 'easy_01.jpg', 'easy_36.jpg', 'easy_08.jpg', 'pistol_02.jpg', 'easy_24.jpg', 'easy_05.jpg', 'easy_10.jpg', 'peace_24.jpg', 'pistol_10.jpg', 'easy_07.jpg', 'metal_51.jpg', 'metal_05.jpg', 'metal_10.jpg', 'metal_03.jpg', 'easy_40.jpg', 'easy_42.jpg', 'peace_41.jpg', 'thumbs_up_17.jpg', 'metal_08.jpg', 'peace_32.jpg', 'pistol_14.jpg', 'metal_13.jpg', 'pistol_12.jpg', 'metal_09.jpg', 'metal_04.jpg', 'peace_47.jpg', 'pistol_11.jpg', 'peace_30.jpg', 'pistol_05.jpg', 'thumbs_up_16.jpg', 'pistol_38.jpg', 'peace_46.jpg', 'peace_19.jpg', 'metal_14.jpg', 'metal_07.jpg', 'peace_42.jpg', 'pistol_03.jpg', 'pistol_13.jpg', 'peace_38.jpg', 'easy_41.jpg', 'peace_33.jpg', 'pistol_07.jpg', 'pistol_06.jpg', 'peace_01.jpg', 'metal_21.jpg', 'peace_44.jpg', 'peace_48.jpg', 'metal_11.jpg', 'peace_51.jpg', 'metal_20.jpg', 'thumbs_up_23.jpg', 'peace_34.jpg', 'metal_12.jpg', 'peace_40.jpg', 'pistol_08.jpg', 'thumbs_up_19.jpg', 'easy_35.jpg', 'thumbs_up_18.jpg', 'peace_43.jpg', 'thumbs_up_21.jpg', 'pistol_43.jpg', 'peace_13.jpg', 'pistol_00.jpg', 'peace_12.jpg', 'thumbs_up_24.jpg', 'thumbs_up_20.jpg', 'pistol_44.jpg', 'pistol_36.jpg', 'easy_38.jpg', 'peace_11.jpg', 'peace_05.jpg', 'thumbs_up_22.jpg', 'easy_39.jpg', 'easy_37.jpg', 'metal_23.jpg', 'peace_09.jpg', 'peace_07.jpg', 'thumbs_up_40.jpg', 'pistol_41.jpg', 'pistol_42.jpg', 'pistol_40.jpg', 'pistol_37.jpg', 'easy_43.jpg', 'easy_44.jpg', 'peace_06.jpg', 'peace_03.jpg', 'metal_24.jpg', 'peace_53.jpg', 'thumbs_up_38.jpg', 'pistol_09.jpg', 'peace_08.jpg', 'peace_54.jpg', 'metal_22.jpg', 'peace_10.jpg', 'peace_04.jpg', 'pistol_39.jpg', 'peace_00.jpg', 'peace_39.jpg', 'pistol_35.jpg', 'thumbs_up_42.jpg', 'peace_02.jpg', 'thumbs_up_41.jpg', 'thumbs_up_39.jpg', 'thumbs_up_37.jpg', 'peace_52.jpg', 'thumbs_up_44.jpg', 'thumbs_up_35.jpg', 'thumbs_up_43.jpg', 'thumbs_up_36.jpg', 'metal_40.jpg', 'metal_38.jpg', 'metal_44.jpg', 'metal_35.jpg', 'metal_42.jpg', 'metal_39.jpg', 'metal_41.jpg', 'metal_37.jpg', 'metal_43.jpg', 'metal_36.jpg'])\n"
     ]
    },
    {
     "data": {
      "text/plain": [
       "'\\navg = sum(distances) / len(distances)\\nprint(round(statistics.pstdev(distances) / statistics.mean(distances) * 100, 5))\\nprint(list(zip(distances, new_names)))\\n'"
      ]
     },
     "execution_count": 23,
     "metadata": {},
     "output_type": "execute_result"
    }
   ],
   "source": [
    "print(sort_points_names_by_dist(np.mean(train),train,names_train))\n",
    "\"\"\"\n",
    "avg = sum(distances) / len(distances)\n",
    "print(round(statistics.pstdev(distances) / statistics.mean(distances) * 100, 5))\n",
    "print(list(zip(distances, new_names)))\n",
    "\"\"\"\n",
    "#Lower 1000\n",
    "#Upper 5000"
   ]
  },
  {
   "cell_type": "code",
   "execution_count": 71,
   "metadata": {},
   "outputs": [
    {
     "name": "stderr",
     "output_type": "stream",
     "text": [
      "C:\\Users\\finia\\AppData\\Local\\Packages\\PythonSoftwareFoundation.Python.3.10_qbz5n2kfra8p0\\LocalCache\\local-packages\\Python310\\site-packages\\sklearn\\cluster\\_kmeans.py:1307: RuntimeWarning: Explicit initial center position passed: performing only one init in KMeans instead of n_init=10.\n",
      "  super()._check_params(X)\n"
     ]
    },
    {
     "name": "stdout",
     "output_type": "stream",
     "text": [
      "K-Means score: 23.0%\n",
      "K-Means score sklearn: 23.0%\n"
     ]
    }
   ],
   "source": [
    "points: np.ndarray = np.matmul(coeff_mat, eigenfaces)\n",
    "classification: list = []\n",
    "centroids: np.ndarray = init_centroids(k, points)\n",
    "init_cent: np.ndarray = centroids.copy()\n",
    "last_centroids: np.ndarray = np.zeros_like(centroids)\n",
    "i = 0\n",
    "\n",
    "while is_not_converged(last_centroids, centroids):\n",
    "    i += 1\n",
    "    last_centroids = centroids.copy()\n",
    "    classification, centroids = run_iteration(points, centroids, k)\n",
    "\n",
    "\n",
    "\n",
    "kmeans: KMeans = KMeans(n_clusters=k, init=init_cent, random_state=42)\n",
    "classification_sklearn: list = kmeans.fit_predict(points)\n",
    "centroids_skearn: np.ndarray = kmeans.cluster_centers_\n",
    "\n",
    "\n",
    "cluster_n: list = cluster_names(classification, names_train, k)\n",
    "distribution, score = k_means_score(cluster_n)\n",
    "\n",
    "cluster_n_sklearn: list = cluster_names(classification_sklearn, names_train, k)\n",
    "distribution_sklearn, score_sklearn = k_means_score(cluster_n_sklearn)\n",
    "\n",
    "print(\"K-Means score: \" + str(score * 100) + \"%\")\n",
    "print(\"K-Means score sklearn: \" + str(score_sklearn * 100) + \"%\")\n",
    "\n"
   ]
  }
 ],
 "metadata": {
  "kernelspec": {
   "display_name": "Python 3",
   "language": "python",
   "name": "python3"
  },
  "language_info": {
   "codemirror_mode": {
    "name": "ipython",
    "version": 3
   },
   "file_extension": ".py",
   "mimetype": "text/x-python",
   "name": "python",
   "nbconvert_exporter": "python",
   "pygments_lexer": "ipython3",
   "version": "3.10.11"
  }
 },
 "nbformat": 4,
 "nbformat_minor": 2
}
